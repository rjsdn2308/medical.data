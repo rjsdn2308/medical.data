{
  "nbformat": 4,
  "nbformat_minor": 0,
  "metadata": {
    "colab": {
      "provenance": [],
      "gpuType": "T4",
      "include_colab_link": true
    },
    "kernelspec": {
      "name": "python3",
      "display_name": "Python 3"
    },
    "language_info": {
      "name": "python"
    },
    "accelerator": "GPU"
  },
  "cells": [
    {
      "cell_type": "markdown",
      "metadata": {
        "id": "view-in-github",
        "colab_type": "text"
      },
      "source": [
        "<a href=\"https://colab.research.google.com/github/rjsdn2308/medical.data/blob/main/11_tf_binding_prediction_RNA_inferience_prediction.ipynb\" target=\"_parent\"><img src=\"https://colab.research.google.com/assets/colab-badge.svg\" alt=\"Open In Colab\"/></a>"
      ]
    },
    {
      "cell_type": "markdown",
      "source": [
        "# DeepChem 설치\n",
        "Colab 노트북에 DeepChem 설치\n",
        "\n",
        "tensorflow 기반 모델을 사용할 것이므로 pip install 명령에 [tensorflow]를 추가하여 필요한 종속성도 설치"
      ],
      "metadata": {
        "id": "Yei8aJ5zF6OP"
      }
    },
    {
      "cell_type": "code",
      "source": [
        "# DeepChem 설치시 Keras 종속성 버전 일치를 위해 아래 환경 변수 설정 후 import 진행\n",
        "import os\n",
        "os.environ[\"TF_USE_LEGACY_KERAS\"] = '1'"
      ],
      "metadata": {
        "id": "hYUjZhnsHDXV"
      },
      "execution_count": 22,
      "outputs": []
    },
    {
      "cell_type": "code",
      "execution_count": 23,
      "metadata": {
        "colab": {
          "base_uri": "https://localhost:8080/"
        },
        "id": "uu9N3ZozFWEH",
        "outputId": "52e54fb7-868a-4c0a-c48c-dd28574d5064"
      },
      "outputs": [
        {
          "output_type": "stream",
          "name": "stdout",
          "text": [
            "Requirement already satisfied: deepchem[tensorflow] in /usr/local/lib/python3.11/dist-packages (2.8.0)\n",
            "Requirement already satisfied: joblib in /usr/local/lib/python3.11/dist-packages (from deepchem[tensorflow]) (1.5.0)\n",
            "Requirement already satisfied: numpy>=1.21 in /usr/local/lib/python3.11/dist-packages (from deepchem[tensorflow]) (2.0.2)\n",
            "Requirement already satisfied: pandas in /usr/local/lib/python3.11/dist-packages (from deepchem[tensorflow]) (2.2.2)\n",
            "Requirement already satisfied: scikit-learn in /usr/local/lib/python3.11/dist-packages (from deepchem[tensorflow]) (1.6.1)\n",
            "Requirement already satisfied: sympy in /usr/local/lib/python3.11/dist-packages (from deepchem[tensorflow]) (1.13.1)\n",
            "Requirement already satisfied: scipy>=1.10.1 in /usr/local/lib/python3.11/dist-packages (from deepchem[tensorflow]) (1.15.3)\n",
            "Requirement already satisfied: rdkit in /usr/local/lib/python3.11/dist-packages (from deepchem[tensorflow]) (2025.3.2)\n",
            "Requirement already satisfied: tensorflow in /usr/local/lib/python3.11/dist-packages (from deepchem[tensorflow]) (2.18.0)\n",
            "Requirement already satisfied: tensorflow-probability in /usr/local/lib/python3.11/dist-packages (from deepchem[tensorflow]) (0.25.0)\n",
            "Requirement already satisfied: tensorflow-addons in /usr/local/lib/python3.11/dist-packages (from deepchem[tensorflow]) (0.23.0)\n",
            "Requirement already satisfied: python-dateutil>=2.8.2 in /usr/local/lib/python3.11/dist-packages (from pandas->deepchem[tensorflow]) (2.9.0.post0)\n",
            "Requirement already satisfied: pytz>=2020.1 in /usr/local/lib/python3.11/dist-packages (from pandas->deepchem[tensorflow]) (2025.2)\n",
            "Requirement already satisfied: tzdata>=2022.7 in /usr/local/lib/python3.11/dist-packages (from pandas->deepchem[tensorflow]) (2025.2)\n",
            "Requirement already satisfied: Pillow in /usr/local/lib/python3.11/dist-packages (from rdkit->deepchem[tensorflow]) (11.2.1)\n",
            "Requirement already satisfied: threadpoolctl>=3.1.0 in /usr/local/lib/python3.11/dist-packages (from scikit-learn->deepchem[tensorflow]) (3.6.0)\n",
            "Requirement already satisfied: mpmath<1.4,>=1.1.0 in /usr/local/lib/python3.11/dist-packages (from sympy->deepchem[tensorflow]) (1.3.0)\n",
            "Requirement already satisfied: absl-py>=1.0.0 in /usr/local/lib/python3.11/dist-packages (from tensorflow->deepchem[tensorflow]) (1.4.0)\n",
            "Requirement already satisfied: astunparse>=1.6.0 in /usr/local/lib/python3.11/dist-packages (from tensorflow->deepchem[tensorflow]) (1.6.3)\n",
            "Requirement already satisfied: flatbuffers>=24.3.25 in /usr/local/lib/python3.11/dist-packages (from tensorflow->deepchem[tensorflow]) (25.2.10)\n",
            "Requirement already satisfied: gast!=0.5.0,!=0.5.1,!=0.5.2,>=0.2.1 in /usr/local/lib/python3.11/dist-packages (from tensorflow->deepchem[tensorflow]) (0.6.0)\n",
            "Requirement already satisfied: google-pasta>=0.1.1 in /usr/local/lib/python3.11/dist-packages (from tensorflow->deepchem[tensorflow]) (0.2.0)\n",
            "Requirement already satisfied: libclang>=13.0.0 in /usr/local/lib/python3.11/dist-packages (from tensorflow->deepchem[tensorflow]) (18.1.1)\n",
            "Requirement already satisfied: opt-einsum>=2.3.2 in /usr/local/lib/python3.11/dist-packages (from tensorflow->deepchem[tensorflow]) (3.4.0)\n",
            "Requirement already satisfied: packaging in /usr/local/lib/python3.11/dist-packages (from tensorflow->deepchem[tensorflow]) (24.2)\n",
            "Requirement already satisfied: protobuf!=4.21.0,!=4.21.1,!=4.21.2,!=4.21.3,!=4.21.4,!=4.21.5,<6.0.0dev,>=3.20.3 in /usr/local/lib/python3.11/dist-packages (from tensorflow->deepchem[tensorflow]) (5.29.4)\n",
            "Requirement already satisfied: requests<3,>=2.21.0 in /usr/local/lib/python3.11/dist-packages (from tensorflow->deepchem[tensorflow]) (2.32.3)\n",
            "Requirement already satisfied: setuptools in /usr/local/lib/python3.11/dist-packages (from tensorflow->deepchem[tensorflow]) (75.2.0)\n",
            "Requirement already satisfied: six>=1.12.0 in /usr/local/lib/python3.11/dist-packages (from tensorflow->deepchem[tensorflow]) (1.17.0)\n",
            "Requirement already satisfied: termcolor>=1.1.0 in /usr/local/lib/python3.11/dist-packages (from tensorflow->deepchem[tensorflow]) (3.1.0)\n",
            "Requirement already satisfied: typing-extensions>=3.6.6 in /usr/local/lib/python3.11/dist-packages (from tensorflow->deepchem[tensorflow]) (4.13.2)\n",
            "Requirement already satisfied: wrapt>=1.11.0 in /usr/local/lib/python3.11/dist-packages (from tensorflow->deepchem[tensorflow]) (1.17.2)\n",
            "Requirement already satisfied: grpcio<2.0,>=1.24.3 in /usr/local/lib/python3.11/dist-packages (from tensorflow->deepchem[tensorflow]) (1.71.0)\n",
            "Requirement already satisfied: tensorboard<2.19,>=2.18 in /usr/local/lib/python3.11/dist-packages (from tensorflow->deepchem[tensorflow]) (2.18.0)\n",
            "Requirement already satisfied: keras>=3.5.0 in /usr/local/lib/python3.11/dist-packages (from tensorflow->deepchem[tensorflow]) (3.8.0)\n",
            "Requirement already satisfied: h5py>=3.11.0 in /usr/local/lib/python3.11/dist-packages (from tensorflow->deepchem[tensorflow]) (3.13.0)\n",
            "Requirement already satisfied: ml-dtypes<0.5.0,>=0.4.0 in /usr/local/lib/python3.11/dist-packages (from tensorflow->deepchem[tensorflow]) (0.4.1)\n",
            "Requirement already satisfied: tensorflow-io-gcs-filesystem>=0.23.1 in /usr/local/lib/python3.11/dist-packages (from tensorflow->deepchem[tensorflow]) (0.37.1)\n",
            "Requirement already satisfied: typeguard<3.0.0,>=2.7 in /usr/local/lib/python3.11/dist-packages (from tensorflow-addons->deepchem[tensorflow]) (2.13.3)\n",
            "Requirement already satisfied: decorator in /usr/local/lib/python3.11/dist-packages (from tensorflow-probability->deepchem[tensorflow]) (4.4.2)\n",
            "Requirement already satisfied: cloudpickle>=1.3 in /usr/local/lib/python3.11/dist-packages (from tensorflow-probability->deepchem[tensorflow]) (3.1.1)\n",
            "Requirement already satisfied: dm-tree in /usr/local/lib/python3.11/dist-packages (from tensorflow-probability->deepchem[tensorflow]) (0.1.9)\n",
            "Requirement already satisfied: wheel<1.0,>=0.23.0 in /usr/local/lib/python3.11/dist-packages (from astunparse>=1.6.0->tensorflow->deepchem[tensorflow]) (0.45.1)\n",
            "Requirement already satisfied: rich in /usr/local/lib/python3.11/dist-packages (from keras>=3.5.0->tensorflow->deepchem[tensorflow]) (13.9.4)\n",
            "Requirement already satisfied: namex in /usr/local/lib/python3.11/dist-packages (from keras>=3.5.0->tensorflow->deepchem[tensorflow]) (0.0.9)\n",
            "Requirement already satisfied: optree in /usr/local/lib/python3.11/dist-packages (from keras>=3.5.0->tensorflow->deepchem[tensorflow]) (0.15.0)\n",
            "Requirement already satisfied: charset-normalizer<4,>=2 in /usr/local/lib/python3.11/dist-packages (from requests<3,>=2.21.0->tensorflow->deepchem[tensorflow]) (3.4.2)\n",
            "Requirement already satisfied: idna<4,>=2.5 in /usr/local/lib/python3.11/dist-packages (from requests<3,>=2.21.0->tensorflow->deepchem[tensorflow]) (3.10)\n",
            "Requirement already satisfied: urllib3<3,>=1.21.1 in /usr/local/lib/python3.11/dist-packages (from requests<3,>=2.21.0->tensorflow->deepchem[tensorflow]) (2.4.0)\n",
            "Requirement already satisfied: certifi>=2017.4.17 in /usr/local/lib/python3.11/dist-packages (from requests<3,>=2.21.0->tensorflow->deepchem[tensorflow]) (2025.4.26)\n",
            "Requirement already satisfied: markdown>=2.6.8 in /usr/local/lib/python3.11/dist-packages (from tensorboard<2.19,>=2.18->tensorflow->deepchem[tensorflow]) (3.8)\n",
            "Requirement already satisfied: tensorboard-data-server<0.8.0,>=0.7.0 in /usr/local/lib/python3.11/dist-packages (from tensorboard<2.19,>=2.18->tensorflow->deepchem[tensorflow]) (0.7.2)\n",
            "Requirement already satisfied: werkzeug>=1.0.1 in /usr/local/lib/python3.11/dist-packages (from tensorboard<2.19,>=2.18->tensorflow->deepchem[tensorflow]) (3.1.3)\n",
            "Requirement already satisfied: attrs>=18.2.0 in /usr/local/lib/python3.11/dist-packages (from dm-tree->tensorflow-probability->deepchem[tensorflow]) (25.3.0)\n",
            "Requirement already satisfied: MarkupSafe>=2.1.1 in /usr/local/lib/python3.11/dist-packages (from werkzeug>=1.0.1->tensorboard<2.19,>=2.18->tensorflow->deepchem[tensorflow]) (3.0.2)\n",
            "Requirement already satisfied: markdown-it-py>=2.2.0 in /usr/local/lib/python3.11/dist-packages (from rich->keras>=3.5.0->tensorflow->deepchem[tensorflow]) (3.0.0)\n",
            "Requirement already satisfied: pygments<3.0.0,>=2.13.0 in /usr/local/lib/python3.11/dist-packages (from rich->keras>=3.5.0->tensorflow->deepchem[tensorflow]) (2.19.1)\n",
            "Requirement already satisfied: mdurl~=0.1 in /usr/local/lib/python3.11/dist-packages (from markdown-it-py>=2.2.0->rich->keras>=3.5.0->tensorflow->deepchem[tensorflow]) (0.1.2)\n"
          ]
        }
      ],
      "source": [
        "!pip install deepchem[tensorflow]"
      ]
    },
    {
      "cell_type": "code",
      "source": [
        "!pip install tf_keras"
      ],
      "metadata": {
        "colab": {
          "base_uri": "https://localhost:8080/"
        },
        "id": "Hz9kbcPhGPBn",
        "outputId": "e9f5a670-9553-440e-9dba-dcaa48565a42"
      },
      "execution_count": 24,
      "outputs": [
        {
          "output_type": "stream",
          "name": "stdout",
          "text": [
            "Requirement already satisfied: tf_keras in /usr/local/lib/python3.11/dist-packages (2.18.0)\n",
            "Requirement already satisfied: tensorflow<2.19,>=2.18 in /usr/local/lib/python3.11/dist-packages (from tf_keras) (2.18.0)\n",
            "Requirement already satisfied: absl-py>=1.0.0 in /usr/local/lib/python3.11/dist-packages (from tensorflow<2.19,>=2.18->tf_keras) (1.4.0)\n",
            "Requirement already satisfied: astunparse>=1.6.0 in /usr/local/lib/python3.11/dist-packages (from tensorflow<2.19,>=2.18->tf_keras) (1.6.3)\n",
            "Requirement already satisfied: flatbuffers>=24.3.25 in /usr/local/lib/python3.11/dist-packages (from tensorflow<2.19,>=2.18->tf_keras) (25.2.10)\n",
            "Requirement already satisfied: gast!=0.5.0,!=0.5.1,!=0.5.2,>=0.2.1 in /usr/local/lib/python3.11/dist-packages (from tensorflow<2.19,>=2.18->tf_keras) (0.6.0)\n",
            "Requirement already satisfied: google-pasta>=0.1.1 in /usr/local/lib/python3.11/dist-packages (from tensorflow<2.19,>=2.18->tf_keras) (0.2.0)\n",
            "Requirement already satisfied: libclang>=13.0.0 in /usr/local/lib/python3.11/dist-packages (from tensorflow<2.19,>=2.18->tf_keras) (18.1.1)\n",
            "Requirement already satisfied: opt-einsum>=2.3.2 in /usr/local/lib/python3.11/dist-packages (from tensorflow<2.19,>=2.18->tf_keras) (3.4.0)\n",
            "Requirement already satisfied: packaging in /usr/local/lib/python3.11/dist-packages (from tensorflow<2.19,>=2.18->tf_keras) (24.2)\n",
            "Requirement already satisfied: protobuf!=4.21.0,!=4.21.1,!=4.21.2,!=4.21.3,!=4.21.4,!=4.21.5,<6.0.0dev,>=3.20.3 in /usr/local/lib/python3.11/dist-packages (from tensorflow<2.19,>=2.18->tf_keras) (5.29.4)\n",
            "Requirement already satisfied: requests<3,>=2.21.0 in /usr/local/lib/python3.11/dist-packages (from tensorflow<2.19,>=2.18->tf_keras) (2.32.3)\n",
            "Requirement already satisfied: setuptools in /usr/local/lib/python3.11/dist-packages (from tensorflow<2.19,>=2.18->tf_keras) (75.2.0)\n",
            "Requirement already satisfied: six>=1.12.0 in /usr/local/lib/python3.11/dist-packages (from tensorflow<2.19,>=2.18->tf_keras) (1.17.0)\n",
            "Requirement already satisfied: termcolor>=1.1.0 in /usr/local/lib/python3.11/dist-packages (from tensorflow<2.19,>=2.18->tf_keras) (3.1.0)\n",
            "Requirement already satisfied: typing-extensions>=3.6.6 in /usr/local/lib/python3.11/dist-packages (from tensorflow<2.19,>=2.18->tf_keras) (4.13.2)\n",
            "Requirement already satisfied: wrapt>=1.11.0 in /usr/local/lib/python3.11/dist-packages (from tensorflow<2.19,>=2.18->tf_keras) (1.17.2)\n",
            "Requirement already satisfied: grpcio<2.0,>=1.24.3 in /usr/local/lib/python3.11/dist-packages (from tensorflow<2.19,>=2.18->tf_keras) (1.71.0)\n",
            "Requirement already satisfied: tensorboard<2.19,>=2.18 in /usr/local/lib/python3.11/dist-packages (from tensorflow<2.19,>=2.18->tf_keras) (2.18.0)\n",
            "Requirement already satisfied: keras>=3.5.0 in /usr/local/lib/python3.11/dist-packages (from tensorflow<2.19,>=2.18->tf_keras) (3.8.0)\n",
            "Requirement already satisfied: numpy<2.1.0,>=1.26.0 in /usr/local/lib/python3.11/dist-packages (from tensorflow<2.19,>=2.18->tf_keras) (2.0.2)\n",
            "Requirement already satisfied: h5py>=3.11.0 in /usr/local/lib/python3.11/dist-packages (from tensorflow<2.19,>=2.18->tf_keras) (3.13.0)\n",
            "Requirement already satisfied: ml-dtypes<0.5.0,>=0.4.0 in /usr/local/lib/python3.11/dist-packages (from tensorflow<2.19,>=2.18->tf_keras) (0.4.1)\n",
            "Requirement already satisfied: tensorflow-io-gcs-filesystem>=0.23.1 in /usr/local/lib/python3.11/dist-packages (from tensorflow<2.19,>=2.18->tf_keras) (0.37.1)\n",
            "Requirement already satisfied: wheel<1.0,>=0.23.0 in /usr/local/lib/python3.11/dist-packages (from astunparse>=1.6.0->tensorflow<2.19,>=2.18->tf_keras) (0.45.1)\n",
            "Requirement already satisfied: rich in /usr/local/lib/python3.11/dist-packages (from keras>=3.5.0->tensorflow<2.19,>=2.18->tf_keras) (13.9.4)\n",
            "Requirement already satisfied: namex in /usr/local/lib/python3.11/dist-packages (from keras>=3.5.0->tensorflow<2.19,>=2.18->tf_keras) (0.0.9)\n",
            "Requirement already satisfied: optree in /usr/local/lib/python3.11/dist-packages (from keras>=3.5.0->tensorflow<2.19,>=2.18->tf_keras) (0.15.0)\n",
            "Requirement already satisfied: charset-normalizer<4,>=2 in /usr/local/lib/python3.11/dist-packages (from requests<3,>=2.21.0->tensorflow<2.19,>=2.18->tf_keras) (3.4.2)\n",
            "Requirement already satisfied: idna<4,>=2.5 in /usr/local/lib/python3.11/dist-packages (from requests<3,>=2.21.0->tensorflow<2.19,>=2.18->tf_keras) (3.10)\n",
            "Requirement already satisfied: urllib3<3,>=1.21.1 in /usr/local/lib/python3.11/dist-packages (from requests<3,>=2.21.0->tensorflow<2.19,>=2.18->tf_keras) (2.4.0)\n",
            "Requirement already satisfied: certifi>=2017.4.17 in /usr/local/lib/python3.11/dist-packages (from requests<3,>=2.21.0->tensorflow<2.19,>=2.18->tf_keras) (2025.4.26)\n",
            "Requirement already satisfied: markdown>=2.6.8 in /usr/local/lib/python3.11/dist-packages (from tensorboard<2.19,>=2.18->tensorflow<2.19,>=2.18->tf_keras) (3.8)\n",
            "Requirement already satisfied: tensorboard-data-server<0.8.0,>=0.7.0 in /usr/local/lib/python3.11/dist-packages (from tensorboard<2.19,>=2.18->tensorflow<2.19,>=2.18->tf_keras) (0.7.2)\n",
            "Requirement already satisfied: werkzeug>=1.0.1 in /usr/local/lib/python3.11/dist-packages (from tensorboard<2.19,>=2.18->tensorflow<2.19,>=2.18->tf_keras) (3.1.3)\n",
            "Requirement already satisfied: MarkupSafe>=2.1.1 in /usr/local/lib/python3.11/dist-packages (from werkzeug>=1.0.1->tensorboard<2.19,>=2.18->tensorflow<2.19,>=2.18->tf_keras) (3.0.2)\n",
            "Requirement already satisfied: markdown-it-py>=2.2.0 in /usr/local/lib/python3.11/dist-packages (from rich->keras>=3.5.0->tensorflow<2.19,>=2.18->tf_keras) (3.0.0)\n",
            "Requirement already satisfied: pygments<3.0.0,>=2.13.0 in /usr/local/lib/python3.11/dist-packages (from rich->keras>=3.5.0->tensorflow<2.19,>=2.18->tf_keras) (2.19.1)\n",
            "Requirement already satisfied: mdurl~=0.1 in /usr/local/lib/python3.11/dist-packages (from markdown-it-py>=2.2.0->rich->keras>=3.5.0->tensorflow<2.19,>=2.18->tf_keras) (0.1.2)\n"
          ]
        }
      ]
    },
    {
      "cell_type": "code",
      "source": [
        "import deepchem as dc\n",
        "dc.__version__"
      ],
      "metadata": {
        "colab": {
          "base_uri": "https://localhost:8080/",
          "height": 35
        },
        "id": "JAuyd7JRF04t",
        "outputId": "44c424ae-d4d2-49a1-fd14-bbf0dad88356"
      },
      "execution_count": 25,
      "outputs": [
        {
          "output_type": "execute_result",
          "data": {
            "text/plain": [
              "'2.8.0'"
            ],
            "application/vnd.google.colaboratory.intrinsic+json": {
              "type": "string"
            }
          },
          "metadata": {},
          "execution_count": 25
        }
      ]
    },
    {
      "cell_type": "markdown",
      "source": [
        "### warning 메시지 생략"
      ],
      "metadata": {
        "id": "VJ7Auz04Rhmw"
      }
    },
    {
      "cell_type": "code",
      "source": [
        "import warnings\n",
        "warnings.filterwarnings(action='ignore')"
      ],
      "metadata": {
        "id": "02ZiF5bxF2wZ"
      },
      "execution_count": 26,
      "outputs": []
    },
    {
      "cell_type": "markdown",
      "source": [
        "# 전사인자 결합 예측 모델\n",
        "\n",
        "- JUND 전사 인자의 결합 예측을 위한 CNN 모델 생성\n",
        "- 2차원 이미지가 아닌 1차원 데이터 사용하는 CNN 모델"
      ],
      "metadata": {
        "id": "xYLwzreXF4Ek"
      }
    },
    {
      "cell_type": "markdown",
      "source": [
        "### 라이브러리 불러오기"
      ],
      "metadata": {
        "id": "05PtiV23Rx0q"
      }
    },
    {
      "cell_type": "code",
      "source": [
        "import deepchem as dc # DeepChem 라이브러리를 dc라는 이름(alias)으로 임포트합니다.\n",
        "import tensorflow as tf\n",
        "import tensorflow.keras.layers as layers"
      ],
      "metadata": {
        "id": "Gwf7JO-mF_UJ"
      },
      "execution_count": 27,
      "outputs": []
    },
    {
      "cell_type": "markdown",
      "source": [
        "### 데이터 불러오기 및 확인"
      ],
      "metadata": {
        "id": "N8EZ6ijTR0Fi"
      }
    },
    {
      "cell_type": "code",
      "source": [
        "train = dc.data.DiskDataset('/content/drive/MyDrive/2025-1/md/data (1)/train_dataset')\n",
        "valid = dc.data.DiskDataset('/content/drive/MyDrive/2025-1/md/data (1)/valid_dataset')"
      ],
      "metadata": {
        "id": "Z1GV1-GAGTkr"
      },
      "execution_count": 28,
      "outputs": []
    },
    {
      "cell_type": "code",
      "source": [
        "from google.colab import drive\n",
        "drive.mount('/content/drive')"
      ],
      "metadata": {
        "id": "DH6sRUPyBmPp",
        "outputId": "fd196840-b38a-43a9-a548-03c5d82c73bf",
        "colab": {
          "base_uri": "https://localhost:8080/"
        }
      },
      "execution_count": 29,
      "outputs": [
        {
          "output_type": "stream",
          "name": "stdout",
          "text": [
            "Drive already mounted at /content/drive; to attempt to forcibly remount, call drive.mount(\"/content/drive\", force_remount=True).\n"
          ]
        }
      ]
    },
    {
      "cell_type": "code",
      "source": [
        "train.X.shape"
      ],
      "metadata": {
        "colab": {
          "base_uri": "https://localhost:8080/"
        },
        "id": "AsLhXR3GJpGM",
        "outputId": "2139805f-34c8-45ec-8076-f1252564a376"
      },
      "execution_count": 30,
      "outputs": [
        {
          "output_type": "execute_result",
          "data": {
            "text/plain": [
              "(276216, 101, 4)"
            ]
          },
          "metadata": {},
          "execution_count": 30
        }
      ]
    },
    {
      "cell_type": "code",
      "source": [
        "train.y.shape"
      ],
      "metadata": {
        "colab": {
          "base_uri": "https://localhost:8080/"
        },
        "id": "urdobnN3Jq8T",
        "outputId": "d47bf865-fc2a-434e-f18f-ba2c9b5f2c54"
      },
      "execution_count": 31,
      "outputs": [
        {
          "output_type": "execute_result",
          "data": {
            "text/plain": [
              "(276216, 1)"
            ]
          },
          "metadata": {},
          "execution_count": 31
        }
      ]
    },
    {
      "cell_type": "code",
      "source": [
        "train"
      ],
      "metadata": {
        "colab": {
          "base_uri": "https://localhost:8080/"
        },
        "id": "GUfVSehyJslR",
        "outputId": "37097059-826c-4a22-f3a9-274ec1c38efd"
      },
      "execution_count": 32,
      "outputs": [
        {
          "output_type": "execute_result",
          "data": {
            "text/plain": [
              "<DiskDataset X.shape: (np.int64(276216), np.int64(101), np.int64(4)), y.shape: (np.int64(276216), np.int64(1)), w.shape: (np.int64(276216), np.int64(1)), task_names: [0]>"
            ]
          },
          "metadata": {},
          "execution_count": 32
        }
      ]
    },
    {
      "cell_type": "markdown",
      "source": [
        "### 모델 생성"
      ],
      "metadata": {
        "id": "-eRVPa9CR3UQ"
      }
    },
    {
      "cell_type": "code",
      "source": [
        "features = tf.keras.Input(shape=(101, 4)) # 입력 레이어 정의: 입력 데이터는 (101, 4) 형태의 시퀀스 데이터를 의미\n",
        "prev = features\n",
        "\n",
        "for i in range(3):\n",
        "    # 1D 합성곱 레이어: 필터 수 15, 커널 크기 10, ReLU 활성화 함수 사용\n",
        "    # padding='same'으로 출력 길이가 입력과 동일하도록 유지\n",
        "    prev = layers.Conv1D(filters=15, kernel_size=10, activation=tf.nn.relu, padding='same')(prev)\n",
        "    prev = layers.Dropout(rate=0.5)(prev)\n",
        "\n",
        "# 마지막 Conv 블록 출력값을 평탄화 (Flatten)한 후, Dense 레이어를 통해 출력 뉴런 1개 생성\n",
        "logits = layers.Dense(units=1)(layers.Flatten()(prev))\n",
        "\n",
        "# 출력값에 시그모이드 활성화 함수를 적용하여 최종 출력 생성 (0~1 사이 확률값)\n",
        "output = layers.Activation(tf.math.sigmoid)(logits)"
      ],
      "metadata": {
        "id": "GnTvtERBGjpL"
      },
      "execution_count": 33,
      "outputs": []
    },
    {
      "cell_type": "code",
      "source": [
        "keras_model = tf.keras.Model(inputs=features, outputs=[output, logits])\n",
        "\n",
        "# DeepChem의 KerasModel 클래스를 사용하여 사용자 정의 Keras 모델을 래핑\n",
        "model = dc.models.KerasModel(\n",
        "    keras_model,\n",
        "    loss=dc.models.losses.SigmoidCrossEntropy(), # 손실 함수로 Sigmoid Cross Entropy를 사용\n",
        "    output_types=['prediction', 'loss'],\n",
        "    batch_size=1000,\n",
        "    model_dir='tf')"
      ],
      "metadata": {
        "id": "KVWdcU_WGrTK"
      },
      "execution_count": 34,
      "outputs": []
    },
    {
      "cell_type": "markdown",
      "source": [
        "### 모델 학습 및 평가"
      ],
      "metadata": {
        "id": "5q1vxHddR5vG"
      }
    },
    {
      "cell_type": "code",
      "source": [
        "# ROC AUC 점수를 사용하기 위한 Metric 객체 생성\n",
        "# roc_auc_score는 분류기의 성능을 평가할 때 흔히 사용되는 지표로,\n",
        "metric = dc.metrics.Metric(dc.metrics.roc_auc_score)\n",
        "for i in range(20):\n",
        "    model.fit(train, nb_epoch=10)\n",
        "    print(model.evaluate(train, [metric]))\n",
        "    print(model.evaluate(valid, [metric])) # 검증 데이터셋(valid)에 대한 성능 평가 (과적합 여부 확인 목적)"
      ],
      "metadata": {
        "colab": {
          "base_uri": "https://localhost:8080/"
        },
        "id": "RyJSOgyRGzd0",
        "outputId": "07ae09eb-ee6c-4ed1-da2a-e52e30ec2d29"
      },
      "execution_count": 35,
      "outputs": [
        {
          "output_type": "stream",
          "name": "stdout",
          "text": [
            "{'roc_auc_score': np.float64(0.6328854029040212)}\n",
            "{'roc_auc_score': np.float64(0.5899053037019093)}\n",
            "{'roc_auc_score': np.float64(0.7665241744666336)}\n",
            "{'roc_auc_score': np.float64(0.7274534497191625)}\n",
            "{'roc_auc_score': np.float64(0.8005195716710269)}\n",
            "{'roc_auc_score': np.float64(0.7393842190633326)}\n",
            "{'roc_auc_score': np.float64(0.8203176882289139)}\n",
            "{'roc_auc_score': np.float64(0.7339808782566668)}\n",
            "{'roc_auc_score': np.float64(0.8310328501690165)}\n",
            "{'roc_auc_score': np.float64(0.7284959078624582)}\n",
            "{'roc_auc_score': np.float64(0.8407217194194347)}\n",
            "{'roc_auc_score': np.float64(0.7212880501455686)}\n",
            "{'roc_auc_score': np.float64(0.8513610501061234)}\n",
            "{'roc_auc_score': np.float64(0.7225531344367091)}\n",
            "{'roc_auc_score': np.float64(0.8636088578237702)}\n",
            "{'roc_auc_score': np.float64(0.7274782025593143)}\n",
            "{'roc_auc_score': np.float64(0.8696090690758136)}\n",
            "{'roc_auc_score': np.float64(0.7315598811544923)}\n",
            "{'roc_auc_score': np.float64(0.857362583512198)}\n",
            "{'roc_auc_score': np.float64(0.7400583230702845)}\n",
            "{'roc_auc_score': np.float64(0.8679981959811349)}\n",
            "{'roc_auc_score': np.float64(0.7271401295634375)}\n",
            "{'roc_auc_score': np.float64(0.8730920710340273)}\n",
            "{'roc_auc_score': np.float64(0.7114044452714205)}\n",
            "{'roc_auc_score': np.float64(0.8801893814212951)}\n",
            "{'roc_auc_score': np.float64(0.7137567619579626)}\n",
            "{'roc_auc_score': np.float64(0.8795463102915935)}\n",
            "{'roc_auc_score': np.float64(0.7051940224231844)}\n",
            "{'roc_auc_score': np.float64(0.8847978601891855)}\n",
            "{'roc_auc_score': np.float64(0.7039957757809048)}\n",
            "{'roc_auc_score': np.float64(0.8854325143571453)}\n",
            "{'roc_auc_score': np.float64(0.7059998095475639)}\n",
            "{'roc_auc_score': np.float64(0.8822323926623218)}\n",
            "{'roc_auc_score': np.float64(0.703075786921177)}\n",
            "{'roc_auc_score': np.float64(0.8784578117722317)}\n",
            "{'roc_auc_score': np.float64(0.7099293851773021)}\n",
            "{'roc_auc_score': np.float64(0.8835375283375195)}\n",
            "{'roc_auc_score': np.float64(0.7000468760023157)}\n",
            "{'roc_auc_score': np.float64(0.8925909862358271)}\n",
            "{'roc_auc_score': np.float64(0.7055955961659295)}\n"
          ]
        }
      ]
    },
    {
      "cell_type": "markdown",
      "source": [
        "# 모델 수정\n",
        "- Dense층 학습 시 전사 인자 조절에 관여하는 RNA 간섭 feature 추가\n",
        "- feature 레이어가 2개라 fit함수 사용 불가능\n",
        "- 배치별 반복 학습 수행\n",
        "- iterbatches() 함수를 통해 모델에 필요한 입력 데이터 배치별 처리"
      ],
      "metadata": {
        "id": "PRKe7zNIHxmT"
      }
    },
    {
      "cell_type": "code",
      "source": [
        "import numpy as np"
      ],
      "metadata": {
        "id": "odFEXH4yH2BX"
      },
      "execution_count": 36,
      "outputs": []
    },
    {
      "cell_type": "code",
      "source": [
        "span_accessibility = {}\n",
        "for line in open('/content/drive/MyDrive/2025-1/md/data (1)/accessibility.txt'):\n",
        "    fields = line.split()\n",
        "    span_accessibility[fields[0]] = float(fields[1])"
      ],
      "metadata": {
        "id": "cldBXQ5AIJir"
      },
      "execution_count": 37,
      "outputs": []
    },
    {
      "cell_type": "code",
      "source": [
        "span_accessibility"
      ],
      "metadata": {
        "colab": {
          "base_uri": "https://localhost:8080/"
        },
        "id": "eHY2ZKaBKCiN",
        "outputId": "2966ed40-e27b-4ad4-a159-794bf5ff1ff2"
      },
      "execution_count": 38,
      "outputs": [
        {
          "output_type": "execute_result",
          "data": {
            "text/plain": [
              "{'chr22:20208963-20209064': 0.003902,\n",
              " 'chr22:29673572-29673673': 0.004378,\n",
              " 'chr22:28193720-28193821': 0.001946,\n",
              " 'chr22:43864274-43864375': 0.003869,\n",
              " 'chr22:18261550-18261651': 0.003066,\n",
              " 'chr22:49798024-49798125': 0.003794,\n",
              " 'chr22:43088594-43088695': 0.005292,\n",
              " 'chr22:35147671-35147772': 0.002015,\n",
              " 'chr22:49486843-49486944': 0.001046,\n",
              " 'chr22:21014236-21014337': 0.003394,\n",
              " 'chr22:46113241-46113342': 0.004074,\n",
              " 'chr22:18183679-18183780': 0.005725,\n",
              " 'chr22:50791864-50791965': 0.005023,\n",
              " 'chr22:18811798-18811899': 0.005777,\n",
              " 'chr22:36467842-36467943': 0.003452,\n",
              " 'chr22:33428651-33428752': 0.006423,\n",
              " 'chr22:50113043-50113144': 0.002428,\n",
              " 'chr22:33643781-33643882': 0.004774,\n",
              " 'chr22:33543993-33544094': 0.005169,\n",
              " 'chr22:50467250-50467351': 0.006465,\n",
              " 'chr22:37420272-37420373': 0.002894,\n",
              " 'chr22:50296661-50296762': 0.003144,\n",
              " 'chr22:19833041-19833142': 0.002302,\n",
              " 'chr22:33546316-33546417': 0.003757,\n",
              " 'chr22:24708412-24708513': 0.003336,\n",
              " 'chr22:46228987-46229088': 0.005614,\n",
              " 'chr22:30043939-30044040': 0.002722,\n",
              " 'chr22:47765904-47766005': 0.003541,\n",
              " 'chr22:30893551-30893652': 0.011445,\n",
              " 'chr22:41437446-41437547': 0.002435,\n",
              " 'chr22:42321196-42321297': 0.003381,\n",
              " 'chr22:31917792-31917893': 0.004439,\n",
              " 'chr22:45909120-45909221': 0.006573,\n",
              " 'chr22:16281194-16281295': 0.000196,\n",
              " 'chr22:37572681-37572782': 0.006208,\n",
              " 'chr22:27695487-27695588': 0.002384,\n",
              " 'chr22:46564307-46564408': 0.005211,\n",
              " 'chr22:24751539-24751640': 0.004462,\n",
              " 'chr22:47011232-47011333': 0.004108,\n",
              " 'chr22:18949089-18949190': 0.001898,\n",
              " 'chr22:41305641-41305742': 0.003005,\n",
              " 'chr22:32023135-32023236': 0.003414,\n",
              " 'chr22:17922594-17922695': 0.002139,\n",
              " 'chr22:28482479-28482580': 0.001446,\n",
              " 'chr22:41420377-41420478': 0.003594,\n",
              " 'chr22:25639430-25639531': 0.002726,\n",
              " 'chr22:39843868-39843969': 0.005253,\n",
              " 'chr22:49495731-49495832': 0.002957,\n",
              " 'chr22:17318109-17318210': 0.003917,\n",
              " 'chr22:25078274-25078375': 0.003001,\n",
              " 'chr22:39021526-39021627': 0.00485,\n",
              " 'chr22:21017670-21017771': 0.004766,\n",
              " 'chr22:17347601-17347702': 0.001559,\n",
              " 'chr22:40434617-40434718': 0.003582,\n",
              " 'chr22:30294015-30294116': 0.003867,\n",
              " 'chr22:32629842-32629943': 0.003182,\n",
              " 'chr22:40068795-40068896': 0.000905,\n",
              " 'chr22:45393616-45393717': 0.003204,\n",
              " 'chr22:39575612-39575713': 0.006448,\n",
              " 'chr22:20645182-20645283': 2.7e-05,\n",
              " 'chr22:22094835-22094936': 0.004348,\n",
              " 'chr22:30249474-30249575': 0.001798,\n",
              " 'chr22:40951737-40951838': 0.004915,\n",
              " 'chr22:32964253-32964354': 0.00608,\n",
              " 'chr22:50136172-50136273': 0.00463,\n",
              " 'chr22:49672784-49672885': 0.001613,\n",
              " 'chr22:39405124-39405225': 0.001311,\n",
              " 'chr22:26318554-26318655': 0.002782,\n",
              " 'chr22:40293621-40293722': 0.003563,\n",
              " 'chr22:27009192-27009293': 0.002974,\n",
              " 'chr22:28680035-28680136': 0.005136,\n",
              " 'chr22:30268260-30268361': 0.010199,\n",
              " 'chr22:34734379-34734480': 0.002713,\n",
              " 'chr22:29434707-29434808': 0.005703,\n",
              " 'chr22:23098270-23098371': 0.003811,\n",
              " 'chr22:41695299-41695400': 0.001025,\n",
              " 'chr22:16965114-16965215': 0.001186,\n",
              " 'chr22:19637606-19637707': 0.004326,\n",
              " 'chr22:23864254-23864355': 0.005644,\n",
              " 'chr22:45557438-45557539': 0.002335,\n",
              " 'chr22:37669641-37669742': 0.005188,\n",
              " 'chr22:36873660-36873761': 0.00671,\n",
              " 'chr22:29317244-29317345': 0.012828,\n",
              " 'chr22:17917544-17917645': 0.004055,\n",
              " 'chr22:42652072-42652173': 0.00384,\n",
              " 'chr22:19860715-19860816': 0.001175,\n",
              " 'chr22:28560653-28560754': 0.00552,\n",
              " 'chr22:38152320-38152421': 0.003264,\n",
              " 'chr22:42480776-42480877': 0.004471,\n",
              " 'chr22:17704939-17705040': 0.002168,\n",
              " 'chr22:32269878-32269979': 0.001698,\n",
              " 'chr22:35460266-35460367': 0.010709,\n",
              " 'chr22:31796693-31796794': 0.004716,\n",
              " 'chr22:50285652-50285753': 0.002239,\n",
              " 'chr22:22038780-22038881': 0.002506,\n",
              " 'chr22:16369165-16369266': 0.000242,\n",
              " 'chr22:25938491-25938592': 0.004703,\n",
              " 'chr22:22459647-22459748': 0.004137,\n",
              " 'chr22:18457389-18457490': 0.004867,\n",
              " 'chr22:29031313-29031414': 0.002666,\n",
              " 'chr22:30383905-30384006': 0.006889,\n",
              " 'chr22:47002849-47002950': 0.002908,\n",
              " 'chr22:30844465-30844566': 0.002163,\n",
              " 'chr22:17064397-17064498': 0.005545,\n",
              " 'chr22:16551268-16551369': 0.0039,\n",
              " 'chr22:34609947-34610048': 0.00432,\n",
              " 'chr22:45843571-45843672': 0.004668,\n",
              " 'chr22:24327844-24327945': 0.003384,\n",
              " 'chr22:45673285-45673386': 0.004049,\n",
              " 'chr22:34850529-34850630': 0.002556,\n",
              " 'chr22:17953702-17953803': 0.004627,\n",
              " 'chr22:46739542-46739643': 0.006289,\n",
              " 'chr22:27734978-27735079': 0.004479,\n",
              " 'chr22:22335316-22335417': 0.003122,\n",
              " 'chr22:34031217-34031318': 0.00306,\n",
              " 'chr22:16367549-16367650': 0.001006,\n",
              " 'chr22:25634683-25634784': 0.00443,\n",
              " 'chr22:44187979-44188080': 0.003538,\n",
              " 'chr22:34929511-34929612': 0.003257,\n",
              " 'chr22:20656595-20656696': 0.00056,\n",
              " 'chr22:41536123-41536224': 0.004023,\n",
              " 'chr22:41469665-41469766': 0.002433,\n",
              " 'chr22:32860728-32860829': 0.008873,\n",
              " 'chr22:30289773-30289874': 0.003569,\n",
              " 'chr22:48879732-48879833': 0.002405,\n",
              " 'chr22:34491777-34491878': 0.004425,\n",
              " 'chr22:25608322-25608423': 0.008057,\n",
              " 'chr22:28848705-28848806': 0.006275,\n",
              " 'chr22:20913438-20913539': 0.004345,\n",
              " 'chr22:37014959-37015060': 0.002896,\n",
              " 'chr22:45300898-45300999': 0.004172,\n",
              " 'chr22:16999151-16999252': 0.000827,\n",
              " 'chr22:31448647-31448748': 0.001704,\n",
              " 'chr22:16071114-16071215': 0.002946,\n",
              " 'chr22:43170404-43170505': 0.005694,\n",
              " 'chr22:45933562-45933663': 0.00112,\n",
              " 'chr22:17671205-17671306': 0.002238,\n",
              " 'chr22:32272100-32272201': 0.002725,\n",
              " 'chr22:30328355-30328456': 0.004938,\n",
              " 'chr22:33794372-33794473': 0.005944,\n",
              " 'chr22:17238218-17238319': 0.002968,\n",
              " 'chr22:16216958-16217059': 0.000174,\n",
              " 'chr22:30964150-30964251': 0.004156,\n",
              " 'chr22:24854054-24854155': 0.005874,\n",
              " 'chr22:45789435-45789536': 0.008073,\n",
              " 'chr22:21237749-21237850': 0.003113,\n",
              " 'chr22:44026177-44026278': 0.003708,\n",
              " 'chr22:42241305-42241406': 0.005978,\n",
              " 'chr22:19315719-19315820': 0.004956,\n",
              " 'chr22:30399055-30399156': 0.003526,\n",
              " 'chr22:43687625-43687726': 0.002339,\n",
              " 'chr22:17587880-17587981': 0.003014,\n",
              " 'chr22:48752169-48752270': 0.004487,\n",
              " 'chr22:43555113-43555214': 0.00232,\n",
              " 'chr22:50626931-50627032': 0.005754,\n",
              " 'chr22:51158797-51158898': 0.001557,\n",
              " 'chr22:38117374-38117475': 0.00261,\n",
              " 'chr22:32475009-32475110': 0.005218,\n",
              " 'chr22:44030116-44030217': 0.002744,\n",
              " 'chr22:49450988-49451089': 0.003623,\n",
              " 'chr22:41569958-41570059': 0.002824,\n",
              " 'chr22:46276558-46276659': 0.003578,\n",
              " 'chr22:30520457-30520558': 0.005298,\n",
              " 'chr22:23638216-23638317': 0.002439,\n",
              " 'chr22:24505604-24505705': 0.005537,\n",
              " 'chr22:23913744-23913845': 0.002911,\n",
              " 'chr22:29092923-29093024': 0.00632,\n",
              " 'chr22:23658719-23658820': 0.001369,\n",
              " 'chr22:50813781-50813882': 0.003173,\n",
              " 'chr22:16904817-16904918': 0.000904,\n",
              " 'chr22:31328558-31328659': 0.002076,\n",
              " 'chr22:18128634-18128735': 0.005337,\n",
              " 'chr22:38732767-38732868': 0.007574,\n",
              " 'chr22:49489469-49489570': 0.001496,\n",
              " 'chr22:47130715-47130816': 0.006666,\n",
              " 'chr22:40663180-40663281': 0.004453,\n",
              " 'chr22:21379351-21379452': 0.001918,\n",
              " 'chr22:38902447-38902548': 0.023022,\n",
              " 'chr22:18961310-18961411': 0.006552,\n",
              " 'chr22:37065156-37065257': 0.00265,\n",
              " 'chr22:30012932-30013033': 0.004564,\n",
              " 'chr22:23837590-23837691': 0.003235,\n",
              " 'chr22:26442582-26442683': 0.005365,\n",
              " 'chr22:24573476-24573577': 0.001185,\n",
              " 'chr22:49871855-49871956': 0.003016,\n",
              " 'chr22:28311082-28311183': 0.003584,\n",
              " 'chr22:30243010-30243111': 0.001579,\n",
              " 'chr22:36398758-36398859': 0.005806,\n",
              " 'chr22:45126875-45126976': 0.002116,\n",
              " 'chr22:47027190-47027291': 0.001579,\n",
              " 'chr22:28112112-28112213': 0.002737,\n",
              " 'chr22:16134340-16134441': 0.000201,\n",
              " 'chr22:17759681-17759782': 0.003224,\n",
              " 'chr22:18028745-18028846': 0.002581,\n",
              " 'chr22:26833755-26833856': 0.002952,\n",
              " 'chr22:29330071-29330172': 0.00648,\n",
              " 'chr22:25196242-25196343': 0.003585,\n",
              " 'chr22:26318756-26318857': 0.001888,\n",
              " 'chr22:28793660-28793761': 0.003921,\n",
              " 'chr22:40226153-40226254': 0.002103,\n",
              " 'chr22:25526512-25526613': 0.006527,\n",
              " 'chr22:37132725-37132826': 0.00311,\n",
              " 'chr22:33487534-33487635': 0.003563,\n",
              " 'chr22:29678521-29678622': 0.005109,\n",
              " 'chr22:31407136-31407237': 0.000355,\n",
              " 'chr22:16883203-16883304': 0.001876,\n",
              " 'chr22:28484196-28484297': 0.001761,\n",
              " 'chr22:21586098-21586199': 0.002672,\n",
              " 'chr22:43992342-43992443': 0.00637,\n",
              " 'chr22:28559441-28559542': 0.006926,\n",
              " 'chr22:22561657-22561758': 0.003134,\n",
              " 'chr22:25921826-25921927': 0.007263,\n",
              " 'chr22:32279069-32279170': 0.00354,\n",
              " 'chr22:39146665-39146766': 0.001796,\n",
              " 'chr22:19999287-19999388': 0.006786,\n",
              " 'chr22:28419253-28419354': 0.001768,\n",
              " 'chr22:40304731-40304832': 0.004029,\n",
              " 'chr22:49853271-49853372': 0.002657,\n",
              " 'chr22:27148673-27148774': 0.002555,\n",
              " 'chr22:40601873-40601974': 0.005451,\n",
              " 'chr22:34598837-34598938': 0.003038,\n",
              " 'chr22:42744790-42744891': 0.001935,\n",
              " 'chr22:20351979-20352080': 0.000441,\n",
              " 'chr22:32207258-32207359': 0.005009,\n",
              " 'chr22:25645692-25645793': 0.001779,\n",
              " 'chr22:40990622-40990723': 0.006962,\n",
              " 'chr22:45713786-45713887': 0.003148,\n",
              " 'chr22:23241084-23241185': 0.005935,\n",
              " 'chr22:50355948-50356049': 0.004875,\n",
              " 'chr22:43895786-43895887': 0.0012,\n",
              " 'chr22:24380263-24380364': 0.005989,\n",
              " 'chr22:32046870-32046971': 0.003538,\n",
              " 'chr22:30755383-30755484': 0.003927,\n",
              " 'chr22:34296241-34296342': 0.005057,\n",
              " 'chr22:25023128-25023229': 0.000464,\n",
              " 'chr22:50149403-50149504': 0.002716,\n",
              " 'chr22:37025867-37025968': 0.00271,\n",
              " 'chr22:49378874-49378975': 0.003097,\n",
              " 'chr22:23324813-23324914': 0.009992,\n",
              " 'chr22:31706803-31706904': 0.002822,\n",
              " 'chr22:22201087-22201188': 0.005537,\n",
              " 'chr22:16126765-16126866': 0.000183,\n",
              " 'chr22:28323606-28323707': 0.005605,\n",
              " 'chr22:32784069-32784170': 0.006479,\n",
              " 'chr22:43780747-43780848': 0.002645,\n",
              " 'chr22:45386647-45386748': 0.004757,\n",
              " 'chr22:41961333-41961434': 0.007704,\n",
              " 'chr22:33788211-33788312': 0.007646,\n",
              " 'chr22:51013761-51013862': 0.003152,\n",
              " 'chr22:29706195-29706296': 0.003118,\n",
              " 'chr22:26672054-26672155': 0.00455,\n",
              " 'chr22:40057180-40057281': 0.002887,\n",
              " 'chr22:20985047-20985148': 0.004238,\n",
              " 'chr22:46002747-46002848': 0.003183,\n",
              " 'chr22:33922743-33922844': 0.004415,\n",
              " 'chr22:38978298-38978399': 0.009079,\n",
              " 'chr22:36682871-36682972': 0.006939,\n",
              " 'chr22:20474391-20474492': 0.001622,\n",
              " 'chr22:17932189-17932290': 0.002285,\n",
              " 'chr22:16487133-16487234': 0.005627,\n",
              " 'chr22:20314407-20314508': 0.000575,\n",
              " 'chr22:34846186-34846287': 0.003947,\n",
              " 'chr22:39554604-39554705': 0.00527,\n",
              " 'chr22:43205956-43206057': 0.003064,\n",
              " 'chr22:34684586-34684687': 0.004081,\n",
              " 'chr22:39351089-39351190': 0.005044,\n",
              " 'chr22:48613597-48613698': 0.003119,\n",
              " 'chr22:37518848-37518949': 0.006004,\n",
              " 'chr22:19187651-19187752': 0.006068,\n",
              " 'chr22:49840545-49840646': 0.00162,\n",
              " 'chr22:39647625-39647726': 0.001976,\n",
              " 'chr22:27875772-27875873': 0.004886,\n",
              " 'chr22:27111505-27111606': 0.004542,\n",
              " 'chr22:17768468-17768569': 0.001675,\n",
              " 'chr22:28135241-28135342': 0.003194,\n",
              " 'chr22:21984745-21984846': 0.003832,\n",
              " 'chr22:45867306-45867407': 0.005663,\n",
              " 'chr22:26117160-26117261': 0.005927,\n",
              " 'chr22:49676521-49676622': 0.005291,\n",
              " 'chr22:26076558-26076659': 0.004347,\n",
              " 'chr22:46165458-46165559': 0.005375,\n",
              " 'chr22:45060821-45060922': 0.002375,\n",
              " 'chr22:38158885-38158986': 0.004185,\n",
              " 'chr22:30076663-30076764': 0.001777,\n",
              " 'chr22:40919417-40919518': 0.005926,\n",
              " 'chr22:47578145-47578246': 0.004277,\n",
              " 'chr22:23544286-23544387': 0.004824,\n",
              " 'chr22:22533175-22533276': 0.001243,\n",
              " 'chr22:32930519-32930620': 0.025897,\n",
              " 'chr22:26696092-26696193': 0.001916,\n",
              " 'chr22:28209375-28209476': 0.002052,\n",
              " 'chr22:32202511-32202612': 0.007539,\n",
              " 'chr22:33748619-33748720': 0.00235,\n",
              " 'chr22:18826443-18826544': 0.0003,\n",
              " 'chr22:27924959-27925060': 0.002786,\n",
              " 'chr22:16340683-16340784': 0.000609,\n",
              " 'chr22:40929719-40929820': 0.005211,\n",
              " 'chr22:33402290-33402391': 0.006294,\n",
              " 'chr22:38475924-38476025': 0.003329,\n",
              " 'chr22:24073627-24073728': 0.003791,\n",
              " 'chr22:40465018-40465119': 0.002029,\n",
              " 'chr22:40641566-40641667': 0.002662,\n",
              " 'chr22:28478338-28478439': 0.00533,\n",
              " 'chr22:49295549-49295650': 0.002073,\n",
              " 'chr22:45105766-45105867': 0.002059,\n",
              " 'chr22:24594383-24594484': 0.005582,\n",
              " 'chr22:35791142-35791243': 0.003554,\n",
              " 'chr22:43432398-43432499': 0.008357,\n",
              " 'chr22:18071468-18071569': 0.004416,\n",
              " 'chr22:34546822-34546923': 0.002886,\n",
              " 'chr22:26251793-26251894': 0.002655,\n",
              " 'chr22:43388867-43388968': 0.007555,\n",
              " 'chr22:18754430-18754531': 0.000429,\n",
              " 'chr22:27576408-27576509': 0.004088,\n",
              " 'chr22:45818321-45818422': 0.002212,\n",
              " 'chr22:50733890-50733991': 0.005967,\n",
              " 'chr22:49956392-49956493': 0.006423,\n",
              " 'chr22:40960928-40961029': 0.003133,\n",
              " 'chr22:42430983-42431084': 0.002745,\n",
              " 'chr22:26135542-26135643': 0.003984,\n",
              " 'chr22:25747399-25747500': 0.005614,\n",
              " 'chr22:25090192-25090293': 0.002644,\n",
              " 'chr22:23618218-23618319': 0.002158,\n",
              " 'chr22:19134525-19134626': 0.003117,\n",
              " 'chr22:21009893-21009994': 0.004593,\n",
              " 'chr22:18934949-18935050': 0.000493,\n",
              " 'chr22:37140300-37140401': 0.002992,\n",
              " 'chr22:50723689-50723790': 0.000908,\n",
              " 'chr22:33440367-33440468': 0.005741,\n",
              " 'chr22:45142328-45142429': 0.004415,\n",
              " 'chr22:22974545-22974646': 0.001544,\n",
              " 'chr22:41172220-41172321': 0.002634,\n",
              " 'chr22:32503693-32503794': 0.006768,\n",
              " 'chr22:26075245-26075346': 0.004759,\n",
              " 'chr22:40781451-40781552': 0.004743,\n",
              " 'chr22:47006081-47006182': 0.005346,\n",
              " 'chr22:49430283-49430384': 0.002348,\n",
              " 'chr22:45942753-45942854': 0.003388,\n",
              " 'chr22:16148884-16148985': 0.001675,\n",
              " 'chr22:51189501-51189602': 0.000641,\n",
              " 'chr22:34996676-34996777': 0.005559,\n",
              " 'chr22:18354268-18354369': 0.001738,\n",
              " 'chr22:27390265-27390366': 0.004248,\n",
              " 'chr22:47710556-47710657': 0.004373,\n",
              " 'chr22:21586199-21586300': 0.003321,\n",
              " 'chr22:49063754-49063855': 0.0,\n",
              " 'chr22:33679838-33679939': 0.00442,\n",
              " 'chr22:16209484-16209585': 0.0,\n",
              " 'chr22:33814572-33814673': 0.004939,\n",
              " 'chr22:16143632-16143733': 0.000881,\n",
              " 'chr22:20972018-20972119': 0.004302,\n",
              " 'chr22:39635606-39635707': 0.001305,\n",
              " 'chr22:23193008-23193109': 0.002638,\n",
              " 'chr22:17334471-17334572': 0.003551,\n",
              " 'chr22:36529452-36529553': 0.00479,\n",
              " 'chr22:20618922-20619023': 0.000134,\n",
              " 'chr22:31771645-31771746': 0.00464,\n",
              " 'chr22:38309880-38309981': 0.004634,\n",
              " 'chr22:43577232-43577333': 0.005004,\n",
              " 'chr22:20096045-20096146': 0.002589,\n",
              " 'chr22:32412490-32412591': 0.00219,\n",
              " 'chr22:34775688-34775789': 0.004256,\n",
              " 'chr22:19327637-19327738': 0.004594,\n",
              " 'chr22:42603188-42603289': 0.004842,\n",
              " 'chr22:37033947-37034048': 0.000782,\n",
              " 'chr22:16109898-16109999': 0.000693,\n",
              " 'chr22:50611579-50611680': 0.0014,\n",
              " 'chr22:45917402-45917503': 0.003057,\n",
              " 'chr22:40575512-40575613': 0.007324,\n",
              " 'chr22:39020617-39020718': 0.005362,\n",
              " 'chr22:40648636-40648737': 0.003923,\n",
              " 'chr22:39486833-39486934': 0.00265,\n",
              " 'chr22:40882047-40882148': 0.004512,\n",
              " 'chr22:26160792-26160893': 0.004167,\n",
              " 'chr22:32980716-32980817': 0.004279,\n",
              " 'chr22:34226450-34226551': 0.003644,\n",
              " 'chr22:49257068-49257169': 0.002272,\n",
              " 'chr22:50974371-50974472': 0.003706,\n",
              " 'chr22:44094655-44094756': 0.004983,\n",
              " 'chr22:34443398-34443499': 0.004411,\n",
              " 'chr22:18119140-18119241': 0.002759,\n",
              " 'chr22:21758101-21758202': 0.00061,\n",
              " 'chr22:48888923-48889024': 0.003477,\n",
              " 'chr22:17469609-17469710': 0.003112,\n",
              " 'chr22:40265947-40266048': 0.004445,\n",
              " 'chr22:49915588-49915689': 0.002281,\n",
              " 'chr22:45621169-45621270': 0.004802,\n",
              " 'chr22:46554510-46554611': 0.005043,\n",
              " 'chr22:42309278-42309379': 0.003185,\n",
              " 'chr22:18335482-18335583': 0.006056,\n",
              " 'chr22:35285738-35285839': 0.002587,\n",
              " 'chr22:22834862-22834963': 0.004702,\n",
              " 'chr22:44389878-44389979': 0.006021,\n",
              " 'chr22:38511072-38511173': 0.002883,\n",
              " 'chr22:19174925-19175026': 0.004459,\n",
              " 'chr22:21153010-21153111': 0.004336,\n",
              " 'chr22:34174738-34174839': 0.003844,\n",
              " 'chr22:19124627-19124728': 0.002022,\n",
              " 'chr22:21037769-21037870': 0.001181,\n",
              " 'chr22:33055759-33055860': 0.00534,\n",
              " 'chr22:36389365-36389466': 0.007809,\n",
              " 'chr22:25883042-25883143': 0.002647,\n",
              " 'chr22:42818924-42819025': 0.003092,\n",
              " 'chr22:50641980-50642081': 0.009768,\n",
              " 'chr22:28937181-28937282': 0.003416,\n",
              " 'chr22:38559653-38559754': 0.005771,\n",
              " 'chr22:48517950-48518051': 0.002617,\n",
              " 'chr22:24511563-24511664': 0.004125,\n",
              " 'chr22:26468741-26468842': 0.003911,\n",
              " 'chr22:27723262-27723363': 0.003435,\n",
              " 'chr22:30664685-30664786': 0.002807,\n",
              " 'chr22:21074937-21075038': 0.00364,\n",
              " 'chr22:23604886-23604987': 0.001398,\n",
              " 'chr22:25738915-25739016': 0.001454,\n",
              " 'chr22:43526530-43526631': 0.006151,\n",
              " 'chr22:26235734-26235835': 0.002223,\n",
              " 'chr22:21481967-21482068': 0.0,\n",
              " 'chr22:17144187-17144288': 0.002508,\n",
              " 'chr22:29775885-29775986': 0.005079,\n",
              " 'chr22:32085654-32085755': 0.002718,\n",
              " 'chr22:42350991-42351092': 0.004074,\n",
              " 'chr22:50250100-50250201': 0.003285,\n",
              " 'chr22:31604692-31604793': 0.00169,\n",
              " 'chr22:47596931-47597032': 0.002224,\n",
              " 'chr22:43492897-43492998': 0.003216,\n",
              " 'chr22:44182121-44182222': 0.003348,\n",
              " 'chr22:28968087-28968188': 0.00499,\n",
              " 'chr22:46608343-46608444': 0.004693,\n",
              " 'chr22:27747098-27747199': 0.004222,\n",
              " 'chr22:20432880-20432981': 3.2e-05,\n",
              " 'chr22:41458353-41458454': 0.006987,\n",
              " 'chr22:38505719-38505820': 0.008704,\n",
              " 'chr22:20888491-20888592': 0.004203,\n",
              " 'chr22:24145135-24145236': 0.004778,\n",
              " 'chr22:40491884-40491985': 0.006687,\n",
              " 'chr22:20839607-20839708': 0.003647,\n",
              " 'chr22:35659539-35659640': 0.005806,\n",
              " 'chr22:38632373-38632474': 0.00474,\n",
              " 'chr22:34518946-34519047': 0.004083,\n",
              " 'chr22:16458550-16458651': 0.000328,\n",
              " 'chr22:23410966-23411067': 0.003939,\n",
              " 'chr22:21300773-21300874': 0.004704,\n",
              " 'chr22:40255241-40255342': 0.005814,\n",
              " 'chr22:23664072-23664173': 0.001269,\n",
              " 'chr22:21353495-21353596': 0.00532,\n",
              " 'chr22:30663473-30663574': 0.002942,\n",
              " 'chr22:24032823-24032924': 0.005727,\n",
              " 'chr22:29874158-29874259': 0.004674,\n",
              " 'chr22:41628740-41628841': 0.004717,\n",
              " 'chr22:41117377-41117478': 0.009228,\n",
              " 'chr22:33538539-33538640': 0.003825,\n",
              " 'chr22:38809426-38809527': 0.003641,\n",
              " 'chr22:39367653-39367754': 0.004781,\n",
              " 'chr22:18844825-18844926': 0.000526,\n",
              " 'chr22:38370783-38370884': 0.002329,\n",
              " 'chr22:50021436-50021537': 0.003853,\n",
              " 'chr22:36360883-36360984': 0.002822,\n",
              " 'chr22:21759010-21759111': 0.001345,\n",
              " 'chr22:43274232-43274333': 0.002166,\n",
              " 'chr22:35738218-35738319': 0.002588,\n",
              " 'chr22:50138798-50138899': 0.004106,\n",
              " 'chr22:45520371-45520472': 0.004227,\n",
              " 'chr22:16650248-16650349': 0.001785,\n",
              " 'chr22:20748303-20748404': 0.016291,\n",
              " 'chr22:49417860-49417961': 0.001443,\n",
              " 'chr22:20494288-20494389': 0.000201,\n",
              " 'chr22:22820722-22820823': 0.001895,\n",
              " 'chr22:39200498-39200599': 0.004867,\n",
              " 'chr22:25866478-25866579': 0.00307,\n",
              " 'chr22:29781238-29781339': 0.007063,\n",
              " 'chr22:26239774-26239875': 0.002832,\n",
              " 'chr22:23794261-23794362': 0.004044,\n",
              " 'chr22:31847395-31847496': 0.002649,\n",
              " 'chr22:16229886-16229987': 0.003177,\n",
              " 'chr22:23076959-23077060': 0.001027,\n",
              " 'chr22:31755990-31756091': 0.001942,\n",
              " 'chr22:48592084-48592185': 0.003977,\n",
              " 'chr22:35897192-35897293': 0.003726,\n",
              " 'chr22:41796602-41796703': 0.000401,\n",
              " 'chr22:31333608-31333709': 0.004105,\n",
              " 'chr22:42936488-42936589': 0.007169,\n",
              " 'chr22:26696799-26696900': 0.002232,\n",
              " 'chr22:34836187-34836288': 0.005562,\n",
              " 'chr22:48145563-48145664': 0.003451,\n",
              " 'chr22:23685484-23685585': 0.004179,\n",
              " 'chr22:48107082-48107183': 0.002192,\n",
              " 'chr22:17818059-17818160': 0.004052,\n",
              " 'chr22:16508444-16508545': 0.006643,\n",
              " 'chr22:29209275-29209376': 0.006671,\n",
              " 'chr22:28895367-28895468': 0.003124,\n",
              " 'chr22:42437245-42437346': 0.002233,\n",
              " 'chr22:34242307-34242408': 0.001711,\n",
              " 'chr22:33560557-33560658': 0.00228,\n",
              " 'chr22:32635195-32635296': 0.005,\n",
              " 'chr22:40708226-40708327': 0.005461,\n",
              " 'chr22:45381193-45381294': 0.003451,\n",
              " 'chr22:49511588-49511689': 0.003314,\n",
              " 'chr22:42963152-42963253': 0.006966,\n",
              " 'chr22:25327744-25327845': 0.004446,\n",
              " 'chr22:31185138-31185239': 0.001793,\n",
              " 'chr22:31119185-31119286': 0.002248,\n",
              " 'chr22:42625105-42625206': 0.00386,\n",
              " 'chr22:37709940-37710041': 0.002399,\n",
              " 'chr22:21138668-21138769': 0.014858,\n",
              " 'chr22:48490680-48490781': 0.00243,\n",
              " 'chr22:19407730-19407831': 0.003722,\n",
              " 'chr22:24603069-24603170': 0.006543,\n",
              " 'chr22:36102121-36102222': 0.003978,\n",
              " 'chr22:22972121-22972222': 0.003248,\n",
              " 'chr22:16982183-16982284': 0.000431,\n",
              " 'chr22:45286152-45286253': 0.00337,\n",
              " 'chr22:51032951-51033052': 0.003867,\n",
              " 'chr22:47960430-47960531': 0.001927,\n",
              " 'chr22:35813261-35813362': 0.00377,\n",
              " 'chr22:18531624-18531725': 0.005883,\n",
              " 'chr22:27184326-27184427': 0.00269,\n",
              " 'chr22:23848902-23849003': 0.004359,\n",
              " 'chr22:41449768-41449869': 0.002334,\n",
              " 'chr22:29135646-29135747': 0.003103,\n",
              " 'chr22:40201206-40201307': 0.002857,\n",
              " 'chr22:21371271-21371372': 0.004273,\n",
              " 'chr22:44108795-44108896': 0.004312,\n",
              " 'chr22:17829977-17830078': 0.005962,\n",
              " 'chr22:22893947-22894048': 0.003725,\n",
              " 'chr22:47338472-47338573': 0.004301,\n",
              " 'chr22:17574649-17574750': 0.002943,\n",
              " 'chr22:18788265-18788366': 0.002608,\n",
              " 'chr22:49570370-49570471': 0.003183,\n",
              " 'chr22:33167768-33167869': 0.007612,\n",
              " 'chr22:20230577-20230678': 0.000585,\n",
              " 'chr22:48334938-48335039': 0.003135,\n",
              " 'chr22:47348168-47348269': 0.004875,\n",
              " 'chr22:28822546-28822647': 0.005131,\n",
              " 'chr22:30028991-30029092': 0.006599,\n",
              " 'chr22:29279975-29280076': 0.001039,\n",
              " 'chr22:35556317-35556418': 0.003441,\n",
              " 'chr22:37279276-37279377': 0.005091,\n",
              " 'chr22:35705494-35705595': 0.002201,\n",
              " 'chr22:43073545-43073646': 0.003006,\n",
              " 'chr22:45091525-45091626': 0.005378,\n",
              " 'chr22:35793667-35793768': 0.025966,\n",
              " 'chr22:36451985-36452086': 0.004868,\n",
              " 'chr22:44200200-44200301': 0.003889,\n",
              " 'chr22:37094850-37094951': 0.002368,\n",
              " 'chr22:43803573-43803674': 0.005016,\n",
              " 'chr22:43243427-43243528': 0.006942,\n",
              " 'chr22:28643473-28643574': 0.008739,\n",
              " 'chr22:18958381-18958482': 0.004902,\n",
              " 'chr22:29796590-29796691': 0.004052,\n",
              " 'chr22:17307100-17307201': 0.003897,\n",
              " 'chr22:36265943-36266044': 0.005639,\n",
              " 'chr22:35909211-35909312': 0.005381,\n",
              " 'chr22:36893254-36893355': 0.003013,\n",
              " 'chr22:28039695-28039796': 0.003187,\n",
              " 'chr22:25825775-25825876': 0.002862,\n",
              " 'chr22:45955277-45955378': 0.004042,\n",
              " 'chr22:48400386-48400487': 0.002799,\n",
              " 'chr22:32169989-32170090': 0.002765,\n",
              " 'chr22:19456311-19456412': 0.004484,\n",
              " 'chr22:30095348-30095449': 0.004952,\n",
              " 'chr22:35452388-35452489': 0.003461,\n",
              " 'chr22:24252195-24252296': 0.007419,\n",
              " 'chr22:32764576-32764677': 0.006542,\n",
              " 'chr22:30193217-30193318': 0.003363,\n",
              " 'chr22:23495907-23496008': 0.003449,\n",
              " 'chr22:49726415-49726516': 0.004089,\n",
              " 'chr22:16091718-16091819': 0.000783,\n",
              " 'chr22:51195763-51195864': 0.007445,\n",
              " 'chr22:31312297-31312398': 0.003141,\n",
              " 'chr22:44487646-44487747': 0.005191,\n",
              " 'chr22:47014969-47015070': 0.004025,\n",
              " 'chr22:35054044-35054145': 0.006253,\n",
              " 'chr22:22173716-22173817': 0.008368,\n",
              " 'chr22:23472778-23472879': 0.006928,\n",
              " 'chr22:18893337-18893438': 0.002728,\n",
              " 'chr22:41033547-41033648': 0.008895,\n",
              " 'chr22:32760132-32760233': 0.003708,\n",
              " 'chr22:41563898-41563999': 0.001429,\n",
              " 'chr22:33980212-33980313': 0.0047,\n",
              " 'chr22:30729931-30730032': 0.004507,\n",
              " 'chr22:34594797-34594898': 0.005509,\n",
              " 'chr22:19350564-19350665': 0.003958,\n",
              " 'chr22:24737399-24737500': 0.00299,\n",
              " 'chr22:48574914-48575015': 0.004124,\n",
              " 'chr22:43712168-43712269': 0.005167,\n",
              " 'chr22:36916787-36916888': 0.002517,\n",
              " 'chr22:18865631-18865732': 0.000299,\n",
              " 'chr22:35361488-35361589': 0.003329,\n",
              " 'chr22:41823872-41823973': 0.00444,\n",
              " 'chr22:31239678-31239779': 0.002971,\n",
              " 'chr22:29481167-29481268': 0.005092,\n",
              " 'chr22:31277048-31277149': 0.002533,\n",
              " 'chr22:42836801-42836902': 0.001501,\n",
              " 'chr22:35066669-35066770': 0.002893,\n",
              " 'chr22:24345620-24345721': 0.003573,\n",
              " 'chr22:26823049-26823150': 0.002512,\n",
              " 'chr22:31973342-31973443': 0.003298,\n",
              " 'chr22:37409364-37409465': 0.007973,\n",
              " 'chr22:38396942-38397043': 0.002787,\n",
              " 'chr22:49385641-49385742': 0.0,\n",
              " 'chr22:34840328-34840429': 0.005364,\n",
              " 'chr22:42534811-42534912': 0.004259,\n",
              " 'chr22:48913567-48913668': 0.001607,\n",
              " 'chr22:26529341-26529442': 0.007194,\n",
              " 'chr22:28102113-28102214': 0.004863,\n",
              " 'chr22:33033943-33034044': 0.007504,\n",
              " 'chr22:40378865-40378966': 0.00056,\n",
              " 'chr22:16884112-16884213': 0.004679,\n",
              " 'chr22:47257773-47257874': 0.003145,\n",
              " 'chr22:18359722-18359823': 0.012701,\n",
              " 'chr22:31339668-31339769': 0.00371,\n",
              " 'chr22:21966767-21966868': 0.001317,\n",
              " 'chr22:38400376-38400477': 0.006846,\n",
              " 'chr22:50153039-50153140': 0.007316,\n",
              " 'chr22:16587931-16588032': 0.004091,\n",
              " 'chr22:43700351-43700452': 0.001335,\n",
              " 'chr22:18857450-18857551': 0.000852,\n",
              " 'chr22:31625094-31625195': 0.006942,\n",
              " 'chr22:16300384-16300485': 0.0004,\n",
              " 'chr22:31503692-31503793': 0.014003,\n",
              " 'chr22:20226133-20226234': 0.009919,\n",
              " 'chr22:34517027-34517128': 0.003144,\n",
              " 'chr22:28828909-28829010': 0.006956,\n",
              " 'chr22:37196557-37196658': 0.004381,\n",
              " 'chr22:50709347-50709448': 0.007475,\n",
              " 'chr22:46910939-46911040': 0.002075,\n",
              " 'chr22:45429168-45429269': 0.003694,\n",
              " 'chr22:21268352-21268453': 0.00239,\n",
              " 'chr22:45670861-45670962': 0.004261,\n",
              " 'chr22:29355927-29356028': 0.004304,\n",
              " 'chr22:18234482-18234583': 0.003995,\n",
              " 'chr22:29849312-29849413': 0.001734,\n",
              " 'chr22:41485926-41486027': 0.002442,\n",
              " 'chr22:47070216-47070317': 0.00179,\n",
              " 'chr22:21101904-21102005': 0.002204,\n",
              " 'chr22:18090759-18090860': 0.00479,\n",
              " 'chr22:26087062-26087163': 0.007113,\n",
              " 'chr22:46416847-46416948': 0.005279,\n",
              " 'chr22:39568138-39568239': 0.001795,\n",
              " 'chr22:37689942-37690043': 0.001916,\n",
              " 'chr22:20122103-20122204': 0.001895,\n",
              " 'chr22:18841290-18841391': 0.001346,\n",
              " 'chr22:50427052-50427153': 0.003694,\n",
              " 'chr22:47424019-47424120': 0.004214,\n",
              " 'chr22:33542175-33542276': 0.005103,\n",
              " 'chr22:37268166-37268267': 0.003623,\n",
              " 'chr22:41188885-41188986': 0.00502,\n",
              " 'chr22:41699541-41699642': 0.006716,\n",
              " 'chr22:33372192-33372293': 0.003018,\n",
              " 'chr22:16059701-16059802': 0.007169,\n",
              " 'chr22:35368457-35368558': 0.002598,\n",
              " 'chr22:23213612-23213713': 0.005176,\n",
              " 'chr22:45242722-45242823': 0.003085,\n",
              " 'chr22:37400678-37400779': 0.001919,\n",
              " 'chr22:41729942-41730043': 0.002711,\n",
              " 'chr22:26133522-26133623': 0.002977,\n",
              " 'chr22:51177886-51177987': 0.002969,\n",
              " 'chr22:28746594-28746695': 0.006446,\n",
              " 'chr22:25683264-25683365': 0.005019,\n",
              " 'chr22:22347032-22347133': 0.004525,\n",
              " 'chr22:48920233-48920334': 0.001737,\n",
              " 'chr22:38768824-38768925': 0.004936,\n",
              " 'chr22:32892240-32892341': 0.002753,\n",
              " 'chr22:30146151-30146252': 0.00416,\n",
              " 'chr22:19368845-19368946': 0.006435,\n",
              " 'chr22:20228759-20228860': 0.0016,\n",
              " 'chr22:46860237-46860338': 0.00276,\n",
              " 'chr22:37080003-37080104': 0.003464,\n",
              " 'chr22:27610344-27610445': 0.001429,\n",
              " 'chr22:17556974-17557075': 0.003802,\n",
              " 'chr22:32064040-32064141': 0.00444,\n",
              " 'chr22:27784872-27784973': 0.001514,\n",
              " 'chr22:39153937-39154038': 0.005649,\n",
              " 'chr22:43532893-43532994': 0.002708,\n",
              " 'chr22:20114225-20114326': 0.002187,\n",
              " 'chr22:21879705-21879806': 0.0,\n",
              " 'chr22:23573778-23573879': 0.004084,\n",
              " 'chr22:47596729-47596830': 0.002153,\n",
              " 'chr22:31126154-31126255': 0.005159,\n",
              " 'chr22:41006580-41006681': 0.005954,\n",
              " 'chr22:28095144-28095245': 0.002189,\n",
              " 'chr22:25693566-25693667': 0.005875,\n",
              " 'chr22:42401592-42401693': 0.002567,\n",
              " 'chr22:31353404-31353505': 0.003774,\n",
              " 'chr22:30133223-30133324': 0.00223,\n",
              " 'chr22:19321274-19321375': 0.006328,\n",
              " 'chr22:24345418-24345519': 0.006624,\n",
              " 'chr22:29004144-29004245': 0.003981,\n",
              " 'chr22:39641161-39641262': 0.004857,\n",
              " 'chr22:17919463-17919564': 0.005666,\n",
              " 'chr22:43093341-43093442': 0.003002,\n",
              " 'chr22:25723967-25724068': 0.002185,\n",
              " 'chr22:25091505-25091606': 0.001132,\n",
              " 'chr22:30513690-30513791': 0.00467,\n",
              " 'chr22:20846273-20846374': 0.002893,\n",
              " 'chr22:42978403-42978504': 0.006085,\n",
              " 'chr22:42244941-42245042': 0.005351,\n",
              " 'chr22:42370888-42370989': 0.005394,\n",
              " 'chr22:35530461-35530562': 0.003588,\n",
              " 'chr22:42992745-42992846': 0.005501,\n",
              " 'chr22:16119695-16119796': 0.000494,\n",
              " 'chr22:38192215-38192316': 0.006799,\n",
              " 'chr22:32360879-32360980': 0.005318,\n",
              " 'chr22:18853511-18853612': 0.0,\n",
              " 'chr22:49425839-49425940': 0.004849,\n",
              " 'chr22:17454055-17454156': 0.00404,\n",
              " 'chr22:46927604-46927705': 0.003218,\n",
              " 'chr22:42285341-42285442': 0.005466,\n",
              " 'chr22:36795789-36795890': 0.002817,\n",
              " 'chr22:39227162-39227263': 0.00508,\n",
              " 'chr22:21913540-21913641': 0.0005,\n",
              " 'chr22:42324226-42324327': 0.006241,\n",
              " 'chr22:48679348-48679449': 0.004273,\n",
              " 'chr22:19139676-19139777': 0.002404,\n",
              " 'chr22:30640243-30640344': 0.007245,\n",
              " 'chr22:36983851-36983952': 0.003833,\n",
              " 'chr22:27029897-27029998': 0.003508,\n",
              " 'chr22:47128998-47129099': 0.002961,\n",
              " 'chr22:34119693-34119794': 0.002398,\n",
              " 'chr22:33882444-33882545': 0.004137,\n",
              " 'chr22:39914366-39914467': 0.00499,\n",
              " 'chr22:19237747-19237848': 0.004477,\n",
              " 'chr22:19227849-19227950': 0.00273,\n",
              " 'chr22:49324435-49324536': 0.003427,\n",
              " 'chr22:45117684-45117785': 0.00227,\n",
              " 'chr22:41266251-41266352': 0.005982,\n",
              " 'chr22:23607108-23607209': 0.003477,\n",
              " 'chr22:22578322-22578423': 0.001846,\n",
              " 'chr22:18485467-18485568': 0.005334,\n",
              " 'chr22:38975066-38975167': 0.004575,\n",
              " 'chr22:35296040-35296141': 0.002235,\n",
              " 'chr22:46589860-46589961': 0.003609,\n",
              " 'chr22:50913872-50913973': 0.00564,\n",
              " 'chr22:41752364-41752465': 0.001655,\n",
              " 'chr22:40424113-40424214': 0.003216,\n",
              " 'chr22:21226336-21226437': 0.003717,\n",
              " 'chr22:46334835-46334936': 0.004055,\n",
              " 'chr22:41316145-41316246': 0.002573,\n",
              " 'chr22:51084865-51084966': 0.001893,\n",
              " 'chr22:42423711-42423812': 0.006647,\n",
              " 'chr22:50078602-50078703': 0.003917,\n",
              " 'chr22:22392078-22392179': 0.005719,\n",
              " 'chr22:26337542-26337643': 0.003431,\n",
              " 'chr22:39573087-39573188': 0.003902,\n",
              " 'chr22:31152313-31152414': 0.003563,\n",
              " 'chr22:50751969-50752070': 0.001517,\n",
              " 'chr22:41007489-41007590': 0.007383,\n",
              " 'chr22:21715681-21715782': 0.002953,\n",
              " 'chr22:50880744-50880845': 0.003165,\n",
              " 'chr22:38569955-38570056': 0.003263,\n",
              " 'chr22:19181389-19181490': 0.005831,\n",
              " 'chr22:46151722-46151823': 0.003066,\n",
              " 'chr22:30796793-30796894': 0.003059,\n",
              " 'chr22:23126954-23127055': 0.002911,\n",
              " 'chr22:17846238-17846339': 0.004605,\n",
              " 'chr22:38018697-38018798': 0.002413,\n",
              " 'chr22:17570407-17570508': 0.005354,\n",
              " 'chr22:25680032-25680133': 0.005623,\n",
              " 'chr22:35626007-35626108': 0.007183,\n",
              " 'chr22:49767522-49767623': 0.004085,\n",
              " 'chr22:41681058-41681159': 0.008913,\n",
              " 'chr22:22071403-22071504': 0.001755,\n",
              " 'chr22:38418556-38418657': 0.003535,\n",
              " 'chr22:24939904-24940005': 0.003441,\n",
              " 'chr22:31285330-31285431': 0.002584,\n",
              " 'chr22:34069092-34069193': 0.004645,\n",
              " 'chr22:17108231-17108332': 0.001613,\n",
              " 'chr22:41999006-41999107': 0.002275,\n",
              " 'chr22:21316731-21316832': 0.005822,\n",
              " 'chr22:36359469-36359570': 0.002485,\n",
              " 'chr22:23213915-23214016': 0.00308,\n",
              " 'chr22:45372911-45373012': 0.00205,\n",
              " 'chr22:38000416-38000517': 0.003803,\n",
              " 'chr22:47756915-47757016': 0.002821,\n",
              " 'chr22:48292619-48292720': 0.004326,\n",
              " 'chr22:41861040-41861141': 0.006421,\n",
              " 'chr22:21128366-21128467': 0.012704,\n",
              " 'chr22:40521073-40521174': 0.003891,\n",
              " 'chr22:33692968-33693069': 0.004773,\n",
              " 'chr22:27267954-27268055': 0.003581,\n",
              " 'chr22:36041521-36041622': 0.003793,\n",
              " 'chr22:22334710-22334811': 0.005585,\n",
              " 'chr22:33515006-33515107': 0.004441,\n",
              " 'chr22:28886984-28887085': 0.003348,\n",
              " 'chr22:25750631-25750732': 0.00301,\n",
              " 'chr22:31574291-31574392': 0.009761,\n",
              " 'chr22:19570744-19570845': 0.004259,\n",
              " 'chr22:37177973-37178074': 0.007032,\n",
              " 'chr22:28187761-28187862': 0.002941,\n",
              " 'chr22:48267773-48267874': 0.003086,\n",
              " 'chr22:23631449-23631550': 0.003843,\n",
              " 'chr22:16163933-16164034': 0.000227,\n",
              " 'chr22:48058400-48058501': 0.005649,\n",
              " 'chr22:20499742-20499843': 0.000962,\n",
              " 'chr22:32740235-32740336': 0.005578,\n",
              " 'chr22:35108483-35108584': 0.003378,\n",
              " 'chr22:31066665-31066766': 0.004498,\n",
              " 'chr22:20240576-20240677': 0.001621,\n",
              " 'chr22:32374615-32374716': 0.002395,\n",
              " 'chr22:27713869-27713970': 0.004128,\n",
              " 'chr22:31274321-31274422': 0.002763,\n",
              " 'chr22:26912838-26912939': 0.004963,\n",
              " 'chr22:20183713-20183814': 0.002017,\n",
              " 'chr22:47921545-47921646': 0.001486,\n",
              " 'chr22:46526230-46526331': 0.003669,\n",
              " 'chr22:21504591-21504692': 8.7e-05,\n",
              " 'chr22:51137385-51137486': 0.008352,\n",
              " 'chr22:25766286-25766387': 0.00389,\n",
              " 'chr22:18695749-18695850': 2.9e-05,\n",
              " 'chr22:22539336-22539437': 0.003743,\n",
              " 'chr22:16193526-16193627': 0.000246,\n",
              " 'chr22:37921333-37921434': 0.002328,\n",
              " 'chr22:41567736-41567837': 0.00203,\n",
              " 'chr22:41409974-41410075': 0.009586,\n",
              " 'chr22:44228985-44229086': 0.002856,\n",
              " 'chr22:31408146-31408247': 0.000823,\n",
              " 'chr22:17473952-17474053': 0.00418,\n",
              " 'chr22:23639125-23639226': 0.005745,\n",
              " 'chr22:31763565-31763666': 0.006812,\n",
              " 'chr22:23065344-23065445': 0.003503,\n",
              " 'chr22:37939715-37939816': 0.002364,\n",
              " 'chr22:20217144-20217245': 0.002103,\n",
              " 'chr22:21084431-21084532': 0.004231,\n",
              " 'chr22:49259492-49259593': 0.002307,\n",
              " 'chr22:32892442-32892543': 0.005335,\n",
              " 'chr22:33302502-33302603': 0.003228,\n",
              " 'chr22:36731452-36731553': 0.002549,\n",
              " 'chr22:27118373-27118474': 0.002245,\n",
              " 'chr22:50301711-50301812': 0.001795,\n",
              " 'chr22:45095969-45096070': 0.002945,\n",
              " 'chr22:37096062-37096163': 0.003266,\n",
              " 'chr22:27905870-27905971': 0.003108,\n",
              " 'chr22:49060825-49060926': 0.002787,\n",
              " 'chr22:50259392-50259493': 0.005474,\n",
              " 'chr22:37629241-37629342': 0.004533,\n",
              " 'chr22:44407856-44407957': 0.002192,\n",
              " 'chr22:35363710-35363811': 0.003647,\n",
              " 'chr22:42309379-42309480': 0.005156,\n",
              " 'chr22:43100815-43100916': 0.002007,\n",
              " 'chr22:42327155-42327256': 0.001875,\n",
              " 'chr22:36024452-36024553': 0.002122,\n",
              " 'chr22:18649390-18649491': 0.004896,\n",
              " 'chr22:30421073-30421174': 0.005467,\n",
              " 'chr22:47618848-47618949': 0.004717,\n",
              " 'chr22:26665388-26665489': 0.003466,\n",
              " 'chr22:49516032-49516133': 0.003981,\n",
              " 'chr22:22566808-22566909': 0.003158,\n",
              " 'chr22:32100097-32100198': 0.003657,\n",
              " 'chr22:22994745-22994846': 0.001821,\n",
              " 'chr22:19771027-19771128': 0.003388,\n",
              " 'chr22:17728674-17728775': 0.004097,\n",
              " 'chr22:47892457-47892558': 0.003042,\n",
              " 'chr22:19639020-19639121': 0.006188,\n",
              " 'chr22:47057894-47057995': 0.002978,\n",
              " 'chr22:26159580-26159681': 0.005332,\n",
              " 'chr22:23912936-23913037': 0.004432,\n",
              " 'chr22:27591255-27591356': 0.001576,\n",
              " 'chr22:32551769-32551870': 0.002015,\n",
              " 'chr22:19596499-19596600': 0.003498,\n",
              " 'chr22:48377055-48377156': 0.00538,\n",
              " 'chr22:38903861-38903962': 0.00487,\n",
              " 'chr22:30473290-30473391': 0.006732,\n",
              " 'chr22:39610457-39610558': 0.003108,\n",
              " 'chr22:47901850-47901951': 0.001897,\n",
              " 'chr22:40578845-40578946': 0.007638,\n",
              " 'chr22:32112015-32112116': 0.00502,\n",
              " 'chr22:43428762-43428863': 0.002502,\n",
              " 'chr22:48388973-48389074': 0.003724,\n",
              " 'chr22:49634909-49635010': 0.001908,\n",
              " 'chr22:51214751-51214852': 0.004592,\n",
              " 'chr22:39302104-39302205': 0.007804,\n",
              " 'chr22:35270588-35270689': 0.002325,\n",
              " 'chr22:36120200-36120301': 0.002641,\n",
              " 'chr22:42227367-42227468': 0.003442,\n",
              " 'chr22:38931232-38931333': 0.005078,\n",
              " 'chr22:44031025-44031126': 0.00132,\n",
              " 'chr22:37400779-37400880': 0.001768,\n",
              " 'chr22:42371595-42371696': 0.003918,\n",
              " 'chr22:37016878-37016979': 0.002759,\n",
              " 'chr22:23949700-23949801': 0.002067,\n",
              " 'chr22:32892745-32892846': 0.004192,\n",
              " 'chr22:28770228-28770329': 0.004891,\n",
              " 'chr22:20957979-20958080': 0.001036,\n",
              " 'chr22:36853763-36853864': 0.005185,\n",
              " 'chr22:26737401-26737502': 0.00265,\n",
              " 'chr22:17192162-17192263': 0.003327,\n",
              " 'chr22:24100897-24100998': 0.004183,\n",
              " 'chr22:41167574-41167675': 0.006282,\n",
              " 'chr22:29018082-29018183': 0.006156,\n",
              " 'chr22:39035868-39035969': 0.003114,\n",
              " 'chr22:17497990-17498091': 0.010525,\n",
              " 'chr22:17026623-17026724': 0.0005,\n",
              " 'chr22:42097380-42097481': 0.00283,\n",
              " 'chr22:43611269-43611370': 0.004705,\n",
              " 'chr22:42335841-42335942': 0.003021,\n",
              " 'chr22:19213406-19213507': 0.004795,\n",
              " 'chr22:46461287-46461388': 0.003948,\n",
              " 'chr22:48161117-48161218': 0.004228,\n",
              " 'chr22:37272509-37272610': 0.004902,\n",
              " 'chr22:28702356-28702457': 0.006548,\n",
              " 'chr22:21282694-21282795': 0.002991,\n",
              " 'chr22:42734488-42734589': 0.001221,\n",
              " 'chr22:17719887-17719988': 0.003286,\n",
              " 'chr22:29311386-29311487': 0.007832,\n",
              " 'chr22:44025268-44025369': 0.001355,\n",
              " 'chr22:26790022-26790123': 0.007778,\n",
              " 'chr22:42218277-42218378': 0.005981,\n",
              " 'chr22:42578544-42578645': 0.005324,\n",
              " 'chr22:18394365-18394466': 0.006012,\n",
              " 'chr22:25218159-25218260': 0.003182,\n",
              " 'chr22:26287143-26287244': 0.003249,\n",
              " 'chr22:29252604-29252705': 0.00476,\n",
              " 'chr22:31634992-31635093': 0.005464,\n",
              " 'chr22:45939824-45939925': 0.004017,\n",
              " 'chr22:20058271-20058372': 0.00341,\n",
              " 'chr22:24431268-24431369': 0.006587,\n",
              " 'chr22:30259372-30259473': 0.00504,\n",
              " 'chr22:27187659-27187760': 0.002021,\n",
              " 'chr22:22293098-22293199': 0.021405,\n",
              " 'chr22:19480349-19480450': 0.003876,\n",
              " 'chr22:38032938-38033039': 0.004585,\n",
              " 'chr22:33783767-33783868': 0.006133,\n",
              " 'chr22:45479971-45480072': 0.004249,\n",
              " 'chr22:40015265-40015366': 0.000731,\n",
              " 'chr22:30110700-30110801': 0.002948,\n",
              " 'chr22:45791051-45791152': 0.003596,\n",
              " 'chr22:35017179-35017280': 0.002287,\n",
              " 'chr22:44475122-44475223': 0.002498,\n",
              " 'chr22:36437744-36437845': 0.006381,\n",
              " 'chr22:27490659-27490760': 0.002433,\n",
              " 'chr22:18274074-18274175': 0.001498,\n",
              " 'chr22:21589330-21589431': 0.003002,\n",
              " 'chr22:26498839-26498940': 0.004041,\n",
              " 'chr22:22013025-22013126': 0.004428,\n",
              " 'chr22:47345037-47345138': 0.00578,\n",
              " 'chr22:46985578-46985679': 0.001464,\n",
              " 'chr22:45454317-45454418': 0.003721,\n",
              " 'chr22:37511576-37511677': 0.002668,\n",
              " 'chr22:33723268-33723369': 0.00617,\n",
              " 'chr22:24404099-24404200': 0.008963,\n",
              " 'chr22:22130690-22130791': 0.008,\n",
              " 'chr22:23485302-23485403': 0.008244,\n",
              " 'chr22:26694577-26694678': 0.00338,\n",
              " 'chr22:48684196-48684297': 0.004255,\n",
              " 'chr22:43999311-43999412': 0.005923,\n",
              " 'chr22:37668732-37668833': 0.004405,\n",
              " 'chr22:50594914-50595015': 0.003804,\n",
              " 'chr22:47325039-47325140': 0.00551,\n",
              " 'chr22:31629235-31629336': 0.006451,\n",
              " 'chr22:34647418-34647519': 0.003876,\n",
              " 'chr22:16439158-16439259': 0.000645,\n",
              " 'chr22:17238319-17238420': 0.002856,\n",
              " 'chr22:29145544-29145645': 0.004146,\n",
              " 'chr22:50020022-50020123': 0.000869,\n",
              " 'chr22:39418355-39418456': 0.003436,\n",
              " 'chr22:43614097-43614198': 0.001841,\n",
              " 'chr22:17132370-17132471': 0.003871,\n",
              " 'chr22:33854063-33854164': 0.002632,\n",
              " 'chr22:18226806-18226907': 0.002933,\n",
              " 'chr22:25614988-25615089': 0.00306,\n",
              " 'chr22:34531773-34531874': 0.004077,\n",
              " 'chr22:36085254-36085355': 0.003687,\n",
              " 'chr22:27010000-27010101': 0.001872,\n",
              " 'chr22:19037666-19037767': 0.007791,\n",
              " 'chr22:44819128-44819229': 0.002089,\n",
              " 'chr22:37461379-37461480': 0.001132,\n",
              " 'chr22:44508553-44508654': 0.00236,\n",
              " 'chr22:20032617-20032718': 0.005394,\n",
              " 'chr22:47302011-47302112': 0.003525,\n",
              " 'chr22:42759940-42760041': 0.003746,\n",
              " 'chr22:30616104-30616205': 0.005059,\n",
              " 'chr22:37461177-37461278': 0.003468,\n",
              " 'chr22:49763886-49763987': 0.002724,\n",
              " 'chr22:20892733-20892834': 0.003413,\n",
              " 'chr22:21574988-21575089': 0.003427,\n",
              " 'chr22:48315748-48315849': 0.002681,\n",
              " 'chr22:18564247-18564348': 0.004751,\n",
              " 'chr22:26520049-26520150': 0.00393,\n",
              " 'chr22:49330798-49330899': 0.003832,\n",
              " 'chr22:22415510-22415611': 0.006681,\n",
              " 'chr22:28225939-28226040': 0.003226,\n",
              " 'chr22:49099407-49099508': 0.004767,\n",
              " 'chr22:23889908-23890009': 0.004552,\n",
              " 'chr22:50002347-50002448': 0.002509,\n",
              " 'chr22:23724773-23724874': 0.000208,\n",
              " 'chr22:27659834-27659935': 0.001938,\n",
              " 'chr22:19876067-19876168': 0.001913,\n",
              " 'chr22:42052637-42052738': 0.004403,\n",
              " 'chr22:35129289-35129390': 0.002222,\n",
              " 'chr22:40212316-40212417': 0.003659,\n",
              " 'chr22:35385425-35385526': 0.003505,\n",
              " 'chr22:29757806-29757907': 0.00276,\n",
              " 'chr22:47469873-47469974': 0.00349,\n",
              " 'chr22:50102842-50102943': 0.000963,\n",
              " 'chr22:45186465-45186566': 0.001845,\n",
              " 'chr22:42305238-42305339': 0.001372,\n",
              " 'chr22:48761057-48761158': 0.003164,\n",
              " 'chr22:19578117-19578218': 0.002893,\n",
              " 'chr22:44612179-44612280': 0.002603,\n",
              " 'chr22:20470553-20470654': 0.000335,\n",
              " ...}"
            ]
          },
          "metadata": {},
          "execution_count": 38
        }
      ]
    },
    {
      "cell_type": "code",
      "source": [
        "features = tf.keras.Input(shape=(101, 4))\n",
        "accessibility = tf.keras.Input(shape=(1,))\n",
        "\n",
        "prev = features\n",
        "for i in range(3):\n",
        "    prev = layers.Conv1D(filters=15, kernel_size=10, activation=tf.nn.relu, padding='same')(prev)\n",
        "    prev = layers.Dropout(rate=0.5)(prev)\n",
        "\n",
        "prev = layers.Concatenate()([layers.Flatten()(prev), accessibility])\n",
        "\n",
        "logits = layers.Dense(units=1)(prev)\n",
        "output = layers.Activation(tf.math.sigmoid)(logits)\n",
        "keras_model = tf.keras.Model(inputs=[features, accessibility], outputs=[output, logits])\n",
        "\n",
        "model = dc.models.KerasModel(\n",
        "    keras_model,\n",
        "    loss=dc.models.losses.SigmoidCrossEntropy(),\n",
        "    output_types=['prediction', 'loss'],\n",
        "    batch_size=1000,\n",
        "    model_dir='chromatin')"
      ],
      "metadata": {
        "id": "RD6JCBDzIAjV"
      },
      "execution_count": 39,
      "outputs": []
    },
    {
      "cell_type": "code",
      "source": [
        "def generate_batches(dataset, epochs):\n",
        "    for epoch in range(epochs):\n",
        "        for X, y, w, ids in dataset.iterbatches(batch_size=1000, pad_batches=True):\n",
        "            yield ([X, np.array([span_accessibility[id] for id in ids])], [y], [w])"
      ],
      "metadata": {
        "id": "n64Z7ZxCIaYH"
      },
      "execution_count": 40,
      "outputs": []
    },
    {
      "cell_type": "markdown",
      "source": [
        "### 성능 평가"
      ],
      "metadata": {
        "id": "r4yiSwev1jkX"
      }
    },
    {
      "cell_type": "code",
      "source": [
        "metric = dc.metrics.Metric(dc.metrics.roc_auc_score)\n",
        "for i in range(20):\n",
        "    model.fit_generator(generate_batches(train, epochs=10))\n",
        "    print(model.evaluate_generator(generate_batches(train, 1), [metric]))\n",
        "    print(model.evaluate_generator(generate_batches(valid, 1), [metric]))"
      ],
      "metadata": {
        "colab": {
          "base_uri": "https://localhost:8080/"
        },
        "id": "mQCFwYA9Icch",
        "outputId": "0b148b40-2698-43fc-ce0e-3d12fc429de5"
      },
      "execution_count": 41,
      "outputs": [
        {
          "output_type": "stream",
          "name": "stdout",
          "text": [
            "{'roc_auc_score': np.float64(0.6608679984121266)}\n",
            "{'roc_auc_score': np.float64(0.6135083190020048)}\n",
            "{'roc_auc_score': np.float64(0.7190567122603635)}\n",
            "{'roc_auc_score': np.float64(0.6949276438437748)}\n",
            "{'roc_auc_score': np.float64(0.7835863762938688)}\n",
            "{'roc_auc_score': np.float64(0.7497134493362827)}\n",
            "{'roc_auc_score': np.float64(0.8303870983720189)}\n",
            "{'roc_auc_score': np.float64(0.768158541446301)}\n",
            "{'roc_auc_score': np.float64(0.8478552571904996)}\n",
            "{'roc_auc_score': np.float64(0.7917775654324383)}\n",
            "{'roc_auc_score': np.float64(0.8526516255104855)}\n",
            "{'roc_auc_score': np.float64(0.791706668507139)}\n",
            "{'roc_auc_score': np.float64(0.8577343503858017)}\n",
            "{'roc_auc_score': np.float64(0.7878886178861788)}\n",
            "{'roc_auc_score': np.float64(0.8680499114541005)}\n",
            "{'roc_auc_score': np.float64(0.7816531324725011)}\n",
            "{'roc_auc_score': np.float64(0.875167018044436)}\n",
            "{'roc_auc_score': np.float64(0.7955633668101387)}\n",
            "{'roc_auc_score': np.float64(0.8706956440529414)}\n",
            "{'roc_auc_score': np.float64(0.7803792922046868)}\n",
            "{'roc_auc_score': np.float64(0.889665793889123)}\n",
            "{'roc_auc_score': np.float64(0.8076528234018855)}\n",
            "{'roc_auc_score': np.float64(0.882676975303549)}\n",
            "{'roc_auc_score': np.float64(0.7919651262220666)}\n",
            "{'roc_auc_score': np.float64(0.882831931404196)}\n",
            "{'roc_auc_score': np.float64(0.7964813964610234)}\n",
            "{'roc_auc_score': np.float64(0.89142463864363)}\n",
            "{'roc_auc_score': np.float64(0.8081232902917264)}\n",
            "{'roc_auc_score': np.float64(0.8919266999974573)}\n",
            "{'roc_auc_score': np.float64(0.7944121383669526)}\n",
            "{'roc_auc_score': np.float64(0.8909723263592153)}\n",
            "{'roc_auc_score': np.float64(0.8014293182271277)}\n",
            "{'roc_auc_score': np.float64(0.8975104393753702)}\n",
            "{'roc_auc_score': np.float64(0.7920448097754007)}\n",
            "{'roc_auc_score': np.float64(0.8961543485597366)}\n",
            "{'roc_auc_score': np.float64(0.7970054891379557)}\n",
            "{'roc_auc_score': np.float64(0.9078497397546326)}\n",
            "{'roc_auc_score': np.float64(0.8120178539550637)}\n",
            "{'roc_auc_score': np.float64(0.9031962733020393)}\n",
            "{'roc_auc_score': np.float64(0.8055371594479823)}\n"
          ]
        }
      ]
    },
    {
      "cell_type": "markdown",
      "source": [
        "# RNA 간섭 예측 모델\n",
        "- RNA 서열을 입력 데이터로 사용해 RNA 간섭의 효과 예측하는 CNN 모델"
      ],
      "metadata": {
        "id": "R_Fv1YCZIegQ"
      }
    },
    {
      "cell_type": "code",
      "source": [
        "import matplotlib.pyplot as plt"
      ],
      "metadata": {
        "id": "UcDmm-BEP4GD"
      },
      "execution_count": 42,
      "outputs": []
    },
    {
      "cell_type": "markdown",
      "source": [
        "### 데이터 불러오기 및 확인"
      ],
      "metadata": {
        "id": "CpTQuEfi1l_9"
      }
    },
    {
      "cell_type": "code",
      "source": [
        "train = dc.data.DiskDataset('/content/drive/MyDrive/2025-1/md/data (1)/train_siRNA')\n",
        "valid = dc.data.DiskDataset('/content/drive/MyDrive/2025-1/md/data (1)/valid_siRNA')"
      ],
      "metadata": {
        "id": "soJJxuo1IlUM"
      },
      "execution_count": 43,
      "outputs": []
    },
    {
      "cell_type": "code",
      "source": [
        "train.X.shape"
      ],
      "metadata": {
        "colab": {
          "base_uri": "https://localhost:8080/"
        },
        "id": "oXCyQ2aSKJKC",
        "outputId": "b26babcc-4e16-4b28-ae1d-71534f6e1d44"
      },
      "execution_count": 44,
      "outputs": [
        {
          "output_type": "execute_result",
          "data": {
            "text/plain": [
              "(2187, 21, 4)"
            ]
          },
          "metadata": {},
          "execution_count": 44
        }
      ]
    },
    {
      "cell_type": "code",
      "source": [
        "train.y.shape"
      ],
      "metadata": {
        "colab": {
          "base_uri": "https://localhost:8080/"
        },
        "id": "HpbmItwFKLnj",
        "outputId": "73677266-4cd7-45f0-bcb9-3ba4b5615625"
      },
      "execution_count": 45,
      "outputs": [
        {
          "output_type": "execute_result",
          "data": {
            "text/plain": [
              "(2187, 1)"
            ]
          },
          "metadata": {},
          "execution_count": 45
        }
      ]
    },
    {
      "cell_type": "code",
      "source": [
        "train.X"
      ],
      "metadata": {
        "colab": {
          "base_uri": "https://localhost:8080/"
        },
        "id": "bCWVW4EOPn1G",
        "outputId": "fcf223ee-5ecf-4eb6-a19a-6be3108cb99c"
      },
      "execution_count": 46,
      "outputs": [
        {
          "output_type": "execute_result",
          "data": {
            "text/plain": [
              "array([[[0, 1, 0, 0],\n",
              "        [0, 0, 0, 1],\n",
              "        [0, 1, 0, 0],\n",
              "        ...,\n",
              "        [0, 0, 0, 1],\n",
              "        [0, 1, 0, 0],\n",
              "        [0, 0, 0, 1]],\n",
              "\n",
              "       [[0, 1, 0, 0],\n",
              "        [0, 1, 0, 0],\n",
              "        [1, 0, 0, 0],\n",
              "        ...,\n",
              "        [0, 1, 0, 0],\n",
              "        [0, 0, 0, 1],\n",
              "        [0, 1, 0, 0]],\n",
              "\n",
              "       [[0, 0, 0, 1],\n",
              "        [0, 1, 0, 0],\n",
              "        [0, 1, 0, 0],\n",
              "        ...,\n",
              "        [0, 0, 0, 1],\n",
              "        [0, 1, 0, 0],\n",
              "        [0, 0, 0, 1]],\n",
              "\n",
              "       ...,\n",
              "\n",
              "       [[1, 0, 0, 0],\n",
              "        [0, 0, 1, 0],\n",
              "        [1, 0, 0, 0],\n",
              "        ...,\n",
              "        [1, 0, 0, 0],\n",
              "        [1, 0, 0, 0],\n",
              "        [1, 0, 0, 0]],\n",
              "\n",
              "       [[0, 0, 1, 0],\n",
              "        [1, 0, 0, 0],\n",
              "        [0, 1, 0, 0],\n",
              "        ...,\n",
              "        [1, 0, 0, 0],\n",
              "        [0, 0, 0, 1],\n",
              "        [1, 0, 0, 0]],\n",
              "\n",
              "       [[0, 0, 0, 1],\n",
              "        [0, 0, 1, 0],\n",
              "        [0, 0, 0, 1],\n",
              "        ...,\n",
              "        [0, 1, 0, 0],\n",
              "        [1, 0, 0, 0],\n",
              "        [1, 0, 0, 0]]], dtype=int8)"
            ]
          },
          "metadata": {},
          "execution_count": 46
        }
      ]
    },
    {
      "cell_type": "markdown",
      "source": [
        "### 모델 생성"
      ],
      "metadata": {
        "id": "cx3caeb41yMb"
      }
    },
    {
      "cell_type": "code",
      "source": [
        "features = tf.keras.Input(shape=(21, 4)) # 입력층 정의: 21개의 시퀀스 길이, 각 위치당 4개의 피처\n",
        "prev = features\n",
        "for i in range(2): # Conv1D + Dropout 블록 2회 반복\n",
        "    prev = layers.Conv1D(filters=10, kernel_size=10, activation=tf.nn.relu, padding='same')(prev)\n",
        "    prev = layers.Dropout(rate=0.3)(prev)\n",
        "output = layers.Dense(units=1, activation=tf.math.sigmoid)(layers.Flatten()(prev)) # Flatten 후 Dense 레이어로 이진 출력 생성 (시그모이드 활성화)\n",
        "keras_model = tf.keras.Model(inputs=features, outputs=output)\n",
        "model = dc.models.KerasModel( # DeepChem KerasModel로 래핑\n",
        "    keras_model,\n",
        "    loss=dc.models.losses.L2Loss(),  # 회귀 또는 연속값 예측에 적합\n",
        "    batch_size=1000,\n",
        "    model_dir='rnai') # 모델 저장 디렉터리"
      ],
      "metadata": {
        "id": "Cmdm-V26IoIh"
      },
      "execution_count": 47,
      "outputs": []
    },
    {
      "cell_type": "markdown",
      "source": [
        "### 모델 학습 및 평가"
      ],
      "metadata": {
        "id": "Y6vc961h1z6Y"
      }
    },
    {
      "cell_type": "code",
      "source": [
        "train_scores = []\n",
        "valid_scores = []"
      ],
      "metadata": {
        "id": "-cL4V0wkPyTW"
      },
      "execution_count": 48,
      "outputs": []
    },
    {
      "cell_type": "code",
      "source": [
        "metric = dc.metrics.Metric(dc.metrics.pearsonr, mode='regression')\n",
        "\n",
        "for i in range(20):\n",
        "    model.fit(train, nb_epoch=10)\n",
        "    train_score = model.evaluate(train, [metric])['pearsonr']\n",
        "    valid_score = model.evaluate(valid, [metric])['pearsonr']\n",
        "\n",
        "    train_scores.append(train_score)\n",
        "    valid_scores.append(valid_score)\n",
        "\n",
        "    print(train_score)\n",
        "    print(valid_score)"
      ],
      "metadata": {
        "colab": {
          "base_uri": "https://localhost:8080/"
        },
        "id": "HIdh-xRqIq-M",
        "outputId": "43b5be75-2ce2-471b-e67f-540c6ab82ccb"
      },
      "execution_count": 49,
      "outputs": [
        {
          "output_type": "stream",
          "name": "stdout",
          "text": [
            "0.12114565105948849\n",
            "0.18993968344779505\n",
            "0.3904532431358325\n",
            "0.38872181416357093\n",
            "0.5146852441598426\n",
            "0.4712289488809315\n",
            "0.5673585759053137\n",
            "0.5145528892341845\n",
            "0.6105794325641194\n",
            "0.5551660396423661\n",
            "0.6471002117284237\n",
            "0.5739753810973387\n",
            "0.6701358805733816\n",
            "0.5933852449122338\n",
            "0.6822346713782073\n",
            "0.6029263556654971\n",
            "0.691690608420358\n",
            "0.6111498629291432\n",
            "0.6989844098839655\n",
            "0.6130127266683529\n",
            "0.7050020837671718\n",
            "0.6151805480501191\n",
            "0.7110671194266116\n",
            "0.6191275350453438\n",
            "0.715424433284757\n",
            "0.620998634280477\n",
            "0.7198896223151876\n",
            "0.6242358970161235\n",
            "0.7238530179938587\n",
            "0.6225324812259898\n",
            "0.7272819800641157\n",
            "0.6237225964292705\n",
            "0.7314683422744969\n",
            "0.6274077215398464\n",
            "0.734450497375073\n",
            "0.6283688507459324\n",
            "0.7375129012667813\n",
            "0.6295398940813167\n",
            "0.7407658807065778\n",
            "0.6313920172411343\n"
          ]
        }
      ]
    },
    {
      "cell_type": "markdown",
      "source": [
        "### 모델 성능 시각화"
      ],
      "metadata": {
        "id": "EYW7CIID133w"
      }
    },
    {
      "cell_type": "code",
      "source": [
        "plt.figure(figsize=(10, 6))\n",
        "plt.plot(train_scores, label='Train PearsonR', color='blue')\n",
        "plt.plot(valid_scores, label='Validation PearsonR', color='orange')\n",
        "\n",
        "plt.title('Model Performance')\n",
        "plt.legend()\n",
        "plt.show()"
      ],
      "metadata": {
        "colab": {
          "base_uri": "https://localhost:8080/",
          "height": 545
        },
        "id": "_8Py0mOQQqaC",
        "outputId": "1908ba57-d3e3-460f-ef31-4faf66d53ae1"
      },
      "execution_count": 50,
      "outputs": [
        {
          "output_type": "display_data",
          "data": {
            "text/plain": [
              "<Figure size 1000x600 with 1 Axes>"
            ],
            "image/png": "[encoded data removed]"
          },
          "metadata": {}
        }
      ]
    }
  ]
}